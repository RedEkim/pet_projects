{
 "cells": [
  {
   "cell_type": "markdown",
   "id": "07eecf15",
   "metadata": {},
   "source": [
    "# Анализ трат на топливо\n",
    "## Описание проекта\n",
    "Поиск инсайтов в процессе работы с данными.\n",
    "\n",
    "**Цель** - проанализировать данные по тратам на топливо.\n",
    "\n",
    "**Задачи:**\n",
    "\n",
    " * [X] выяснить сколько было потрачено денег на топливо\n",
    " * [X] какое топливо самое популярное\n",
    " * [X] какой средний расход топлива по месяцам и сколько это в стоимостном выражении\n",
    "\n",
    "## Гипотезы\n",
    "1. Среднее число литров газа при заправке больше, чем литров 95ого бензина.\n",
    "2. Средняя цена топлива в соседних регионах совпадает с ценой в Оренбурге. \n",
    "\n",
    "## Описание данных\n",
    "На руках имеются данные по заправкам на АЗС и АГЗС.\n",
    "\n",
    "Размах - один год.\n",
    "\n",
    "* `refueling_day` — день заправки;\n",
    "* `type_of_fuel` — топливо, которое было заправлено;\n",
    "* `price_per_liter` — цена за литр;\n",
    "* `liters` — литров топлива заправлено;\n",
    "* `odometer` - показания пробега машины.\n",
    "\n",
    "## Содержание\n",
    " 1. Откроем файл с данными и изучим общую информацию\n",
    " 2. Предобработка данных\n",
    " 3. Исследовательский анализ данных (EDA)\n",
    " 4. Топливная карточка\n",
    " 5. Проверка гипотез\n",
    " 6. Выводы и рекомендации"
   ]
  },
  {
   "cell_type": "markdown",
   "id": "27221fe5",
   "metadata": {},
   "source": [
    "<div style=\"border:solid green 2px; padding: 20px\"> <h1 style=\"color:green; margin-bottom:20px\">Памятка</h1>\n",
    "✏️ По ходу проекта я буду писать комментарии(\"Мои размышления\"). В них информация будет более развёрнутой. Там можно будет увидить что-то интересное.\n",
    "    Такие комментарии я буду выделять так:\n",
    "<div class=\"alert alert-info\"><b>Мои размышления:</b> Дополнительная информация.</div>"
   ]
  },
  {
   "cell_type": "markdown",
   "id": "f52e6f42",
   "metadata": {},
   "source": [
    "# Откроем файл с данными и изучим общую информацию"
   ]
  },
  {
   "cell_type": "code",
   "execution_count": 1,
   "id": "006a20e1",
   "metadata": {},
   "outputs": [],
   "source": [
    "# импорт библиотек\n",
    "import pandas as pd\n",
    "import seaborn as sns"
   ]
  },
  {
   "cell_type": "code",
   "execution_count": 2,
   "id": "3da4986c",
   "metadata": {},
   "outputs": [],
   "source": [
    "# загрузим данные по заправкам топлива\n",
    "data = pd.read_csv('/datasets/fuel_costs.csv', sep=',')"
   ]
  },
  {
   "cell_type": "code",
   "execution_count": 3,
   "id": "33a06b38",
   "metadata": {},
   "outputs": [
    {
     "data": {
      "text/html": [
       "<div>\n",
       "<style scoped>\n",
       "    .dataframe tbody tr th:only-of-type {\n",
       "        vertical-align: middle;\n",
       "    }\n",
       "\n",
       "    .dataframe tbody tr th {\n",
       "        vertical-align: top;\n",
       "    }\n",
       "\n",
       "    .dataframe thead th {\n",
       "        text-align: right;\n",
       "    }\n",
       "</style>\n",
       "<table border=\"1\" class=\"dataframe\">\n",
       "  <thead>\n",
       "    <tr style=\"text-align: right;\">\n",
       "      <th></th>\n",
       "      <th>refueling_day</th>\n",
       "      <th>type_of_fuel</th>\n",
       "      <th>price_per_liter</th>\n",
       "      <th>liters</th>\n",
       "      <th>odometer</th>\n",
       "    </tr>\n",
       "  </thead>\n",
       "  <tbody>\n",
       "    <tr>\n",
       "      <th>26</th>\n",
       "      <td>2021-12-27T00:00:00</td>\n",
       "      <td>gas</td>\n",
       "      <td>26.70</td>\n",
       "      <td>37.94</td>\n",
       "      <td>216783</td>\n",
       "    </tr>\n",
       "    <tr>\n",
       "      <th>54</th>\n",
       "      <td>2022-02-27T00:00:00</td>\n",
       "      <td>gas</td>\n",
       "      <td>24.00</td>\n",
       "      <td>22.89</td>\n",
       "      <td>222620</td>\n",
       "    </tr>\n",
       "    <tr>\n",
       "      <th>37</th>\n",
       "      <td>2022-01-16T00:00:00</td>\n",
       "      <td>gas</td>\n",
       "      <td>26.70</td>\n",
       "      <td>31.30</td>\n",
       "      <td>219102</td>\n",
       "    </tr>\n",
       "    <tr>\n",
       "      <th>112</th>\n",
       "      <td>2022-06-21T00:00:00</td>\n",
       "      <td>95</td>\n",
       "      <td>48.38</td>\n",
       "      <td>3.11</td>\n",
       "      <td>235229</td>\n",
       "    </tr>\n",
       "    <tr>\n",
       "      <th>24</th>\n",
       "      <td>2021-12-20T00:00:00</td>\n",
       "      <td>95</td>\n",
       "      <td>48.38</td>\n",
       "      <td>20.67</td>\n",
       "      <td>216334</td>\n",
       "    </tr>\n",
       "  </tbody>\n",
       "</table>\n",
       "</div>"
      ],
      "text/plain": [
       "           refueling_day type_of_fuel  price_per_liter  liters  odometer\n",
       "26   2021-12-27T00:00:00          gas            26.70   37.94    216783\n",
       "54   2022-02-27T00:00:00          gas            24.00   22.89    222620\n",
       "37   2022-01-16T00:00:00          gas            26.70   31.30    219102\n",
       "112  2022-06-21T00:00:00           95            48.38    3.11    235229\n",
       "24   2021-12-20T00:00:00           95            48.38   20.67    216334"
      ]
     },
     "execution_count": 3,
     "metadata": {},
     "output_type": "execute_result"
    }
   ],
   "source": [
    "# посомотрим на датасет\n",
    "data.sample(5, random_state = 0)"
   ]
  },
  {
   "cell_type": "code",
   "execution_count": 4,
   "id": "f73968e4",
   "metadata": {},
   "outputs": [
    {
     "data": {
      "text/html": [
       "<div>\n",
       "<style scoped>\n",
       "    .dataframe tbody tr th:only-of-type {\n",
       "        vertical-align: middle;\n",
       "    }\n",
       "\n",
       "    .dataframe tbody tr th {\n",
       "        vertical-align: top;\n",
       "    }\n",
       "\n",
       "    .dataframe thead th {\n",
       "        text-align: right;\n",
       "    }\n",
       "</style>\n",
       "<table border=\"1\" class=\"dataframe\">\n",
       "  <thead>\n",
       "    <tr style=\"text-align: right;\">\n",
       "      <th></th>\n",
       "      <th>price_per_liter</th>\n",
       "      <th>liters</th>\n",
       "      <th>odometer</th>\n",
       "    </tr>\n",
       "  </thead>\n",
       "  <tbody>\n",
       "    <tr>\n",
       "      <th>count</th>\n",
       "      <td>156.000000</td>\n",
       "      <td>156.000000</td>\n",
       "      <td>156.000000</td>\n",
       "    </tr>\n",
       "    <tr>\n",
       "      <th>mean</th>\n",
       "      <td>23.226282</td>\n",
       "      <td>28.909423</td>\n",
       "      <td>227771.525641</td>\n",
       "    </tr>\n",
       "    <tr>\n",
       "      <th>std</th>\n",
       "      <td>9.630283</td>\n",
       "      <td>8.390157</td>\n",
       "      <td>9819.794616</td>\n",
       "    </tr>\n",
       "    <tr>\n",
       "      <th>min</th>\n",
       "      <td>9.800000</td>\n",
       "      <td>3.110000</td>\n",
       "      <td>210930.000000</td>\n",
       "    </tr>\n",
       "    <tr>\n",
       "      <th>25%</th>\n",
       "      <td>19.300000</td>\n",
       "      <td>24.050000</td>\n",
       "      <td>219280.000000</td>\n",
       "    </tr>\n",
       "    <tr>\n",
       "      <th>50%</th>\n",
       "      <td>19.400000</td>\n",
       "      <td>30.775000</td>\n",
       "      <td>227167.500000</td>\n",
       "    </tr>\n",
       "    <tr>\n",
       "      <th>75%</th>\n",
       "      <td>25.150000</td>\n",
       "      <td>36.235000</td>\n",
       "      <td>236055.000000</td>\n",
       "    </tr>\n",
       "    <tr>\n",
       "      <th>max</th>\n",
       "      <td>50.400000</td>\n",
       "      <td>42.020000</td>\n",
       "      <td>245212.000000</td>\n",
       "    </tr>\n",
       "  </tbody>\n",
       "</table>\n",
       "</div>"
      ],
      "text/plain": [
       "       price_per_liter      liters       odometer\n",
       "count       156.000000  156.000000     156.000000\n",
       "mean         23.226282   28.909423  227771.525641\n",
       "std           9.630283    8.390157    9819.794616\n",
       "min           9.800000    3.110000  210930.000000\n",
       "25%          19.300000   24.050000  219280.000000\n",
       "50%          19.400000   30.775000  227167.500000\n",
       "75%          25.150000   36.235000  236055.000000\n",
       "max          50.400000   42.020000  245212.000000"
      ]
     },
     "execution_count": 4,
     "metadata": {},
     "output_type": "execute_result"
    }
   ],
   "source": [
    "# посмотрим описание данных\n",
    "data.describe()"
   ]
  },
  {
   "cell_type": "code",
   "execution_count": 5,
   "id": "ae5885a9",
   "metadata": {},
   "outputs": [
    {
     "name": "stdout",
     "output_type": "stream",
     "text": [
      "<class 'pandas.core.frame.DataFrame'>\n",
      "RangeIndex: 156 entries, 0 to 155\n",
      "Data columns (total 5 columns):\n",
      " #   Column           Non-Null Count  Dtype  \n",
      "---  ------           --------------  -----  \n",
      " 0   refueling_day    156 non-null    object \n",
      " 1   type_of_fuel     156 non-null    object \n",
      " 2   price_per_liter  156 non-null    float64\n",
      " 3   liters           156 non-null    float64\n",
      " 4   odometer         156 non-null    int64  \n",
      "dtypes: float64(2), int64(1), object(2)\n",
      "memory usage: 6.2+ KB\n"
     ]
    }
   ],
   "source": [
    "data.info()"
   ]
  },
  {
   "cell_type": "code",
   "execution_count": 6,
   "id": "671d5d6f",
   "metadata": {},
   "outputs": [
    {
     "data": {
      "text/plain": [
       "refueling_day      0.0\n",
       "type_of_fuel       0.0\n",
       "price_per_liter    0.0\n",
       "liters             0.0\n",
       "odometer           0.0\n",
       "dtype: float64"
      ]
     },
     "execution_count": 6,
     "metadata": {},
     "output_type": "execute_result"
    }
   ],
   "source": [
    "# доля пропусков\n",
    "data.isna().mean()"
   ]
  },
  {
   "cell_type": "code",
   "execution_count": 7,
   "id": "18fc0293",
   "metadata": {},
   "outputs": [
    {
     "data": {
      "text/plain": [
       "0.0"
      ]
     },
     "execution_count": 7,
     "metadata": {},
     "output_type": "execute_result"
    }
   ],
   "source": [
    "# доля явных дубликатов\n",
    "data.duplicated().mean()"
   ]
  },
  {
   "cell_type": "code",
   "execution_count": 8,
   "id": "49300667",
   "metadata": {},
   "outputs": [
    {
     "data": {
      "text/plain": [
       "array(['gas', '95', '92'], dtype=object)"
      ]
     },
     "execution_count": 8,
     "metadata": {},
     "output_type": "execute_result"
    }
   ],
   "source": [
    "data['type_of_fuel'].unique()"
   ]
  },
  {
   "cell_type": "code",
   "execution_count": 9,
   "id": "59374ab8",
   "metadata": {},
   "outputs": [
    {
     "data": {
      "text/plain": [
       "min     9.8\n",
       "max    26.7\n",
       "Name: price_per_liter, dtype: float64"
      ]
     },
     "execution_count": 9,
     "metadata": {},
     "output_type": "execute_result"
    }
   ],
   "source": [
    "data.query('type_of_fuel == \"gas\"')['price_per_liter'].agg({'min', 'max'})"
   ]
  },
  {
   "cell_type": "code",
   "execution_count": 10,
   "id": "3e76c7bc",
   "metadata": {},
   "outputs": [
    {
     "data": {
      "text/plain": [
       "min    46.78\n",
       "max    50.40\n",
       "Name: price_per_liter, dtype: float64"
      ]
     },
     "execution_count": 10,
     "metadata": {},
     "output_type": "execute_result"
    }
   ],
   "source": [
    "data.query('type_of_fuel == \"95\"')['price_per_liter'].agg({'min', 'max'})"
   ]
  },
  {
   "cell_type": "code",
   "execution_count": 11,
   "id": "a05ec12e",
   "metadata": {},
   "outputs": [
    {
     "data": {
      "text/plain": [
       "min    44.46\n",
       "max    47.00\n",
       "Name: price_per_liter, dtype: float64"
      ]
     },
     "execution_count": 11,
     "metadata": {},
     "output_type": "execute_result"
    }
   ],
   "source": [
    "data.query('type_of_fuel == \"92\"')['price_per_liter'].agg({'min', 'max'})"
   ]
  },
  {
   "cell_type": "markdown",
   "id": "f268df5c",
   "metadata": {},
   "source": [
    "**Что по данным видно:**\n",
    " * Из хорошего:\n",
    "   * [X] название столбцов не в `CamelCase` стиле(что логично, ведь я это просчитал на моменте сбора данных😎);\n",
    "   * [X] типы данных столбцов про: тип топлива, цены за литр, кол-во литров и показания пробега - меня вполне устраивают и число знаков после \"запятой\" подходящее;\n",
    "   * [X] число записей в столбцах одинаково;\n",
    "   * [X] доля пропусков 0;\n",
    "   * [X] доля явных дубликатов 0.\n",
    " * Из плохого:\n",
    "   * [X] неверный тип данных столбца `refueling_day`(нужен `datetime`, а не `object`)"
   ]
  },
  {
   "cell_type": "markdown",
   "id": "354106b4",
   "metadata": {},
   "source": [
    "**Конкретика по данным:**\n",
    " * первая запись - ;\n",
    " * последняя запись - ;\n",
    " * число заправок топливом - ;\n",
    " * видов топлива - 3('gas', '95', '92');\n",
    " * Цена на топливо :\n",
    "  * Газ :\n",
    "    * Минимум - 9.80;\n",
    "    * Максимум - 26.70.\n",
    "  * 95:\n",
    "    * Минимум - 46.78;\n",
    "    * Максимум - 50.40.\n",
    "  * 92:\n",
    "    * Минимум - 44.46;\n",
    "    * Максимум - 47.00"
   ]
  },
  {
   "cell_type": "markdown",
   "id": "9f38d788",
   "metadata": {},
   "source": [
    "# Предобработка данных"
   ]
  },
  {
   "cell_type": "code",
   "execution_count": 12,
   "id": "8d090d54",
   "metadata": {},
   "outputs": [],
   "source": [
    "# меняем тип данных\n",
    "data['refueling_day'] = pd.to_datetime(data['refueling_day'], format='%Y-%m-%dT%H:%M:%S')"
   ]
  },
  {
   "cell_type": "code",
   "execution_count": 22,
   "id": "f6077880",
   "metadata": {},
   "outputs": [],
   "source": [
    "# создание нового столбца \"cost\", округляем значения до 2 знаков после запятой\n",
    "data['cost'] = round((data['price_per_liter'] * data['liters']).astype('float'), 2)"
   ]
  },
  {
   "cell_type": "code",
   "execution_count": 23,
   "id": "25454d1f",
   "metadata": {},
   "outputs": [
    {
     "data": {
      "text/html": [
       "<div>\n",
       "<style scoped>\n",
       "    .dataframe tbody tr th:only-of-type {\n",
       "        vertical-align: middle;\n",
       "    }\n",
       "\n",
       "    .dataframe tbody tr th {\n",
       "        vertical-align: top;\n",
       "    }\n",
       "\n",
       "    .dataframe thead th {\n",
       "        text-align: right;\n",
       "    }\n",
       "</style>\n",
       "<table border=\"1\" class=\"dataframe\">\n",
       "  <thead>\n",
       "    <tr style=\"text-align: right;\">\n",
       "      <th></th>\n",
       "      <th>refueling_day</th>\n",
       "      <th>type_of_fuel</th>\n",
       "      <th>price_per_liter</th>\n",
       "      <th>liters</th>\n",
       "      <th>odometer</th>\n",
       "      <th>cost</th>\n",
       "    </tr>\n",
       "  </thead>\n",
       "  <tbody>\n",
       "    <tr>\n",
       "      <th>26</th>\n",
       "      <td>2021-12-27</td>\n",
       "      <td>gas</td>\n",
       "      <td>26.70</td>\n",
       "      <td>37.94</td>\n",
       "      <td>216783</td>\n",
       "      <td>1013.00</td>\n",
       "    </tr>\n",
       "    <tr>\n",
       "      <th>54</th>\n",
       "      <td>2022-02-27</td>\n",
       "      <td>gas</td>\n",
       "      <td>24.00</td>\n",
       "      <td>22.89</td>\n",
       "      <td>222620</td>\n",
       "      <td>549.36</td>\n",
       "    </tr>\n",
       "    <tr>\n",
       "      <th>37</th>\n",
       "      <td>2022-01-16</td>\n",
       "      <td>gas</td>\n",
       "      <td>26.70</td>\n",
       "      <td>31.30</td>\n",
       "      <td>219102</td>\n",
       "      <td>835.71</td>\n",
       "    </tr>\n",
       "    <tr>\n",
       "      <th>112</th>\n",
       "      <td>2022-06-21</td>\n",
       "      <td>95</td>\n",
       "      <td>48.38</td>\n",
       "      <td>3.11</td>\n",
       "      <td>235229</td>\n",
       "      <td>150.46</td>\n",
       "    </tr>\n",
       "    <tr>\n",
       "      <th>24</th>\n",
       "      <td>2021-12-20</td>\n",
       "      <td>95</td>\n",
       "      <td>48.38</td>\n",
       "      <td>20.67</td>\n",
       "      <td>216334</td>\n",
       "      <td>1000.01</td>\n",
       "    </tr>\n",
       "  </tbody>\n",
       "</table>\n",
       "</div>"
      ],
      "text/plain": [
       "    refueling_day type_of_fuel  price_per_liter  liters  odometer     cost\n",
       "26     2021-12-27          gas            26.70   37.94    216783  1013.00\n",
       "54     2022-02-27          gas            24.00   22.89    222620   549.36\n",
       "37     2022-01-16          gas            26.70   31.30    219102   835.71\n",
       "112    2022-06-21           95            48.38    3.11    235229   150.46\n",
       "24     2021-12-20           95            48.38   20.67    216334  1000.01"
      ]
     },
     "execution_count": 23,
     "metadata": {},
     "output_type": "execute_result"
    }
   ],
   "source": [
    "# смотрим на данные\n",
    "data.sample(5, random_state = 0)"
   ]
  },
  {
   "cell_type": "code",
   "execution_count": 15,
   "id": "9c237c42",
   "metadata": {},
   "outputs": [
    {
     "data": {
      "text/plain": [
       "<AxesSubplot:xlabel='type_of_fuel', ylabel='count'>"
      ]
     },
     "execution_count": 15,
     "metadata": {},
     "output_type": "execute_result"
    },
    {
     "data": {
      "image/png": "[encoded data removed]",
      "text/plain": [
       "<Figure size 432x288 with 1 Axes>"
      ]
     },
     "metadata": {
      "needs_background": "light"
     },
     "output_type": "display_data"
    }
   ],
   "source": [
    "# виды заправляемого топлива, их частота\n",
    "sns.countplot(data=data, x='type_of_fuel')"
   ]
  },
  {
   "cell_type": "code",
   "execution_count": 16,
   "id": "01a6471c",
   "metadata": {},
   "outputs": [
    {
     "name": "stdout",
     "output_type": "stream",
     "text": [
      "Количество заездов на ЗС: 156\n",
      "2021-10-19 00:00:00 2022-10-12 00:00:00\n",
      "gas    140\n",
      "95      14\n",
      "92       2\n",
      "Name: type_of_fuel, dtype: int64\n"
     ]
    }
   ],
   "source": [
    "# общая информация\n",
    "total_visits = len(data) \n",
    "print(f'Количество заездов на ЗС: {total_visits}')\n",
    "print(data['refueling_day'].min(), data['refueling_day'].max())\n",
    "print(data['type_of_fuel'].value_counts().sort_values(ascending=False).head(10))"
   ]
  },
  {
   "cell_type": "code",
   "execution_count": 17,
   "id": "83dfd16e",
   "metadata": {},
   "outputs": [
    {
     "data": {
      "text/plain": [
       "<AxesSubplot:xlabel='liters', ylabel='type_of_fuel'>"
      ]
     },
     "execution_count": 17,
     "metadata": {},
     "output_type": "execute_result"
    },
    {
     "data": {
      "image/png": "[encoded data removed]",
      "text/plain": [
       "<Figure size 432x288 with 1 Axes>"
      ]
     },
     "metadata": {
      "needs_background": "light"
     },
     "output_type": "display_data"
    }
   ],
   "source": [
    "# посмотрим какой объём заправки характерен для разных типов топлива\n",
    "sns.boxplot(data=data, x = 'liters', y = 'type_of_fuel', hue = 'type_of_fuel')"
   ]
  },
  {
   "cell_type": "code",
   "execution_count": 18,
   "id": "c4ca4f67",
   "metadata": {},
   "outputs": [
    {
     "data": {
      "text/plain": [
       "<AxesSubplot:xlabel='refueling_day'>"
      ]
     },
     "execution_count": 18,
     "metadata": {},
     "output_type": "execute_result"
    },
    {
     "data": {
      "image/png": "[encoded data removed]",
      "text/plain": [
       "<Figure size 2160x576 with 1 Axes>"
      ]
     },
     "metadata": {
      "needs_background": "light"
     },
     "output_type": "display_data"
    }
   ],
   "source": [
    "(data\n",
    " .query('type_of_fuel == \"gas\"')\n",
    " .plot(x='refueling_day', y='price_per_liter', kind='bar', style='o-', grid=True, figsize=(30, 8))\n",
    ")"
   ]
  },
  {
   "cell_type": "code",
   "execution_count": 19,
   "id": "181d42ca",
   "metadata": {},
   "outputs": [
    {
     "data": {
      "text/plain": [
       "<AxesSubplot:xlabel='refueling_day', ylabel='price_per_liter'>"
      ]
     },
     "execution_count": 19,
     "metadata": {},
     "output_type": "execute_result"
    },
    {
     "data": {
      "image/png": "[encoded data removed]",
      "text/plain": [
       "<Figure size 432x288 with 1 Axes>"
      ]
     },
     "metadata": {
      "needs_background": "light"
     },
     "output_type": "display_data"
    }
   ],
   "source": [
    "sns.lineplot(data=data, x = 'refueling_day', y = 'price_per_liter', hue = 'type_of_fuel')"
   ]
  },
  {
   "cell_type": "code",
   "execution_count": 40,
   "id": "b64b4bbe",
   "metadata": {},
   "outputs": [
    {
     "name": "stdout",
     "output_type": "stream",
     "text": [
      "За 11 месяцев:\n",
      "Потрачено на газ - 88512.02 р.\n",
      "Потрачено на 95 бензин - 10400.19 р.\n",
      "Потрачено на 92 бензин - 1494.23 р.\n",
      "\n",
      "Всего потрачено на топливо - 100406.44 р.\n"
     ]
    }
   ],
   "source": [
    "print('За 11 месяцев:')\n",
    "print(f'Потрачено на газ -', round(data.query('type_of_fuel == \"gas\"')['cost'].sum(), 2), 'р.')\n",
    "print(f'Потрачено на 95 бензин -', round(data.query('type_of_fuel == \"95\"')['cost'].sum(), 2), 'р.')\n",
    "print(f'Потрачено на 92 бензин -', round(data.query('type_of_fuel == \"92\"')['cost'].sum(), 2), 'р.')\n",
    "print()\n",
    "print(f'Всего потрачено на топливо -', round(data['cost'].sum(), 2), 'р.')"
   ]
  }
 ],
 "metadata": {
  "kernelspec": {
   "display_name": "Python 3 (ipykernel)",
   "language": "python",
   "name": "python3"
  },
  "language_info": {
   "codemirror_mode": {
    "name": "ipython",
    "version": 3
   },
   "file_extension": ".py",
   "mimetype": "text/x-python",
   "name": "python",
   "nbconvert_exporter": "python",
   "pygments_lexer": "ipython3",
   "version": "3.9.12"
  }
 },
 "nbformat": 4,
 "nbformat_minor": 5
}
