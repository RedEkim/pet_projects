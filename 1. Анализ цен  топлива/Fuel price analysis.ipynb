{
 "cells": [
  {
   "cell_type": "code",
   "execution_count": 1,
   "id": "006a20e1",
   "metadata": {},
   "outputs": [],
   "source": [
    "# импорт библиотек\n",
    "import pandas as pd\n",
    "import seaborn as sns"
   ]
  },
  {
   "cell_type": "code",
   "execution_count": 2,
   "id": "3da4986c",
   "metadata": {},
   "outputs": [],
   "source": [
    "# загрузим данные по заправкам топлива\n",
    "data = pd.read_csv('/datasets/fuel_costs.csv', sep=',')"
   ]
  },
  {
   "cell_type": "code",
   "execution_count": 3,
   "id": "8d090d54",
   "metadata": {},
   "outputs": [],
   "source": [
    "# меняем тип данных\n",
    "data['refueling_day'] = pd.to_datetime(data['refueling_day'], format='%Y-%m-%dT%H:%M:%S')"
   ]
  },
  {
   "cell_type": "code",
   "execution_count": 4,
   "id": "f6077880",
   "metadata": {},
   "outputs": [],
   "source": [
    "# создание нового столбца \"cost\"\n",
    "data['cost'] = (data['price_per_liter'] * data['liters']).astype('float')"
   ]
  },
  {
   "cell_type": "code",
   "execution_count": 5,
   "id": "25454d1f",
   "metadata": {},
   "outputs": [
    {
     "data": {
      "text/html": [
       "<div>\n",
       "<style scoped>\n",
       "    .dataframe tbody tr th:only-of-type {\n",
       "        vertical-align: middle;\n",
       "    }\n",
       "\n",
       "    .dataframe tbody tr th {\n",
       "        vertical-align: top;\n",
       "    }\n",
       "\n",
       "    .dataframe thead th {\n",
       "        text-align: right;\n",
       "    }\n",
       "</style>\n",
       "<table border=\"1\" class=\"dataframe\">\n",
       "  <thead>\n",
       "    <tr style=\"text-align: right;\">\n",
       "      <th></th>\n",
       "      <th>refueling_day</th>\n",
       "      <th>type_of_fuel</th>\n",
       "      <th>price_per_liter</th>\n",
       "      <th>liters</th>\n",
       "      <th>odometer</th>\n",
       "      <th>cost</th>\n",
       "    </tr>\n",
       "  </thead>\n",
       "  <tbody>\n",
       "    <tr>\n",
       "      <th>26</th>\n",
       "      <td>2021-12-27</td>\n",
       "      <td>gas</td>\n",
       "      <td>26.7</td>\n",
       "      <td>37.94</td>\n",
       "      <td>216783</td>\n",
       "      <td>1012.998</td>\n",
       "    </tr>\n",
       "    <tr>\n",
       "      <th>85</th>\n",
       "      <td>2022-04-30</td>\n",
       "      <td>gas</td>\n",
       "      <td>11.5</td>\n",
       "      <td>36.53</td>\n",
       "      <td>229120</td>\n",
       "      <td>420.095</td>\n",
       "    </tr>\n",
       "    <tr>\n",
       "      <th>2</th>\n",
       "      <td>2021-10-25</td>\n",
       "      <td>gas</td>\n",
       "      <td>24.6</td>\n",
       "      <td>38.76</td>\n",
       "      <td>211433</td>\n",
       "      <td>953.496</td>\n",
       "    </tr>\n",
       "    <tr>\n",
       "      <th>55</th>\n",
       "      <td>2022-03-01</td>\n",
       "      <td>gas</td>\n",
       "      <td>24.0</td>\n",
       "      <td>33.33</td>\n",
       "      <td>222869</td>\n",
       "      <td>799.920</td>\n",
       "    </tr>\n",
       "    <tr>\n",
       "      <th>68</th>\n",
       "      <td>2022-04-01</td>\n",
       "      <td>gas</td>\n",
       "      <td>14.6</td>\n",
       "      <td>25.54</td>\n",
       "      <td>225489</td>\n",
       "      <td>372.884</td>\n",
       "    </tr>\n",
       "  </tbody>\n",
       "</table>\n",
       "</div>"
      ],
      "text/plain": [
       "   refueling_day type_of_fuel  price_per_liter  liters  odometer      cost\n",
       "26    2021-12-27          gas             26.7   37.94    216783  1012.998\n",
       "85    2022-04-30          gas             11.5   36.53    229120   420.095\n",
       "2     2021-10-25          gas             24.6   38.76    211433   953.496\n",
       "55    2022-03-01          gas             24.0   33.33    222869   799.920\n",
       "68    2022-04-01          gas             14.6   25.54    225489   372.884"
      ]
     },
     "execution_count": 5,
     "metadata": {},
     "output_type": "execute_result"
    }
   ],
   "source": [
    "# смотрим на данные\n",
    "data.sample(5, random_state = 0)"
   ]
  },
  {
   "cell_type": "code",
   "execution_count": 6,
   "id": "9c237c42",
   "metadata": {},
   "outputs": [
    {
     "data": {
      "text/plain": [
       "<AxesSubplot:xlabel='type_of_fuel', ylabel='count'>"
      ]
     },
     "execution_count": 6,
     "metadata": {},
     "output_type": "execute_result"
    },
    {
     "data": {
      "image/png": "[encoded data removed]",
      "text/plain": [
       "<Figure size 432x288 with 1 Axes>"
      ]
     },
     "metadata": {
      "needs_background": "light"
     },
     "output_type": "display_data"
    }
   ],
   "source": [
    "# виды заправляемого топлива, их частота\n",
    "sns.countplot(data=data, x='type_of_fuel')"
   ]
  },
  {
   "cell_type": "code",
   "execution_count": 7,
   "id": "01a6471c",
   "metadata": {},
   "outputs": [
    {
     "name": "stdout",
     "output_type": "stream",
     "text": [
      "Количество заездов на ЗС: 98\n",
      "2021-10-19 00:00:00 2022-05-27 00:00:00\n",
      "gas    89\n",
      "95      8\n",
      "92      1\n",
      "Name: type_of_fuel, dtype: int64\n"
     ]
    }
   ],
   "source": [
    "# общая информация\n",
    "total_visits = len(data) \n",
    "print(f'Количество заездов на ЗС: {total_visits}')\n",
    "print(data['refueling_day'].min(), data['refueling_day'].max())\n",
    "print(data['type_of_fuel'].value_counts().sort_values(ascending=False).head(10))"
   ]
  },
  {
   "cell_type": "code",
   "execution_count": 8,
   "id": "7601cdff",
   "metadata": {},
   "outputs": [
    {
     "data": {
      "text/plain": [
       "<AxesSubplot:xlabel='liters'>"
      ]
     },
     "execution_count": 8,
     "metadata": {},
     "output_type": "execute_result"
    },
    {
     "data": {
      "image/png": "[encoded data removed]",
      "text/plain": [
       "<Figure size 432x288 with 1 Axes>"
      ]
     },
     "metadata": {
      "needs_background": "light"
     },
     "output_type": "display_data"
    }
   ],
   "source": [
    "# газа заправляется\n",
    "sns.boxplot(x=data.query('type_of_fuel == \"gas\"')['liters'])"
   ]
  },
  {
   "cell_type": "code",
   "execution_count": 9,
   "id": "640eac01",
   "metadata": {},
   "outputs": [
    {
     "data": {
      "text/plain": [
       "<AxesSubplot:xlabel='liters'>"
      ]
     },
     "execution_count": 9,
     "metadata": {},
     "output_type": "execute_result"
    },
    {
     "data": {
      "image/png": "[encoded data removed]",
      "text/plain": [
       "<Figure size 432x288 with 1 Axes>"
      ]
     },
     "metadata": {
      "needs_background": "light"
     },
     "output_type": "display_data"
    }
   ],
   "source": [
    "# 95 ого заправляется\n",
    "sns.boxplot(x=data.query('type_of_fuel == \"95\"')['liters'])"
   ]
  },
  {
   "cell_type": "code",
   "execution_count": 10,
   "id": "35dc18e9",
   "metadata": {},
   "outputs": [
    {
     "data": {
      "text/plain": [
       "<AxesSubplot:xlabel='liters'>"
      ]
     },
     "execution_count": 10,
     "metadata": {},
     "output_type": "execute_result"
    },
    {
     "data": {
      "image/png": "[encoded data removed]",
      "text/plain": [
       "<Figure size 432x288 with 1 Axes>"
      ]
     },
     "metadata": {
      "needs_background": "light"
     },
     "output_type": "display_data"
    }
   ],
   "source": [
    "# 92 ого заправляется\n",
    "sns.boxplot(x=data.query('type_of_fuel == \"92\"')['liters'])"
   ]
  },
  {
   "cell_type": "code",
   "execution_count": null,
   "id": "c4ca4f67",
   "metadata": {},
   "outputs": [],
   "source": []
  }
 ],
 "metadata": {
  "kernelspec": {
   "display_name": "Python 3 (ipykernel)",
   "language": "python",
   "name": "python3"
  },
  "language_info": {
   "codemirror_mode": {
    "name": "ipython",
    "version": 3
   },
   "file_extension": ".py",
   "mimetype": "text/x-python",
   "name": "python",
   "nbconvert_exporter": "python",
   "pygments_lexer": "ipython3",
   "version": "3.9.12"
  }
 },
 "nbformat": 4,
 "nbformat_minor": 5
}
