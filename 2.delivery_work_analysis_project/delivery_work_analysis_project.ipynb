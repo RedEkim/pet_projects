{
 "cells": [
  {
   "cell_type": "markdown",
   "id": "65b73eb7",
   "metadata": {
    "toc": true
   },
   "source": [
    "<h1>Содержание<span class=\"tocSkip\"></span></h1>\n",
    "<div class=\"toc\"><ul class=\"toc-item\"><li><span><a href=\"#Обзор-данных\" data-toc-modified-id=\"Обзор-данных-1\"><span class=\"toc-item-num\">1&nbsp;&nbsp;</span>Обзор данных</a></span><ul class=\"toc-item\"><li><span><a href=\"#Вывод\" data-toc-modified-id=\"Вывод-1.1\"><span class=\"toc-item-num\">1.1&nbsp;&nbsp;</span>Вывод</a></span></li></ul></li><li><span><a href=\"#Предобработка-данных\" data-toc-modified-id=\"Предобработка-данных-2\"><span class=\"toc-item-num\">2&nbsp;&nbsp;</span>Предобработка данных</a></span><ul class=\"toc-item\"><li><span><a href=\"#Вывод\" data-toc-modified-id=\"Вывод-2.1\"><span class=\"toc-item-num\">2.1&nbsp;&nbsp;</span>Вывод</a></span></li></ul></li><li><span><a href=\"#EDA\" data-toc-modified-id=\"EDA-3\"><span class=\"toc-item-num\">3&nbsp;&nbsp;</span>EDA</a></span></li></ul></div>"
   ]
  },
  {
   "cell_type": "markdown",
   "id": "48b52941",
   "metadata": {},
   "source": [
    "# Анализ работы в доставке\n",
    "**Цель** - сделать выводы и рекомендации для себя и для бизнеса по собранным данным.\n",
    "\n",
    "**Задачи:**\n",
    "* [X] предобработать данные в обоих таблицах;\n",
    "* [ ] построить карту заказов по таблице df1(столбец `respawn`), выяснить активные районы/дома/улицы, сделать выводы и рекомендации;\n",
    "* [ ] сгруппировать данные по дню с подсчетом количества заказов в **df1** для объединения с **df2**;\n",
    "* [ ] найти инсайты в данных.\n",
    "\n",
    "# Описание данных\n",
    "**df1** - расширенная информация по каждому заказу с 24.07.2021г. по 12.12.2021г.\n",
    "* `datetime` - дата заказа;\n",
    "* `user_id` - уникальный id пользователя;\n",
    "* `nickname` - имя пользователя;\n",
    "* `respawn` - адрес заказа;\n",
    "* `revenue` - стоимость заказа;\n",
    "* `device_ios_or_android` - телефон на платформе ios(\"0\") или android(\"1\");\n",
    "* `courier` - кодовое обозначения курьера;\n",
    "* `restaurant` - место выдачи заказа.\n",
    "\n",
    "**df2** - упрощенная информация с количеством заказов и итоговой суммой в день с 15.12.2021г. по 09.10.2022г.\n",
    "* `date` - отчётный день;\n",
    "* `source_income` - источник дохода(bk - burger king, dc - delivery club, lenta, yandex_eda);\n",
    "* `orders` - выполнено заказов;\n",
    "* `slot_duration` - продолжительность слота;\n",
    "* `restaurant` - место выдачи заказа;\n",
    "* `income` - выручка за день."
   ]
  },
  {
   "cell_type": "markdown",
   "id": "98489b8e",
   "metadata": {},
   "source": [
    "## Обзор данных"
   ]
  },
  {
   "cell_type": "code",
   "execution_count": 1,
   "id": "ab9da6b8",
   "metadata": {},
   "outputs": [],
   "source": [
    "# импорт библиотек\n",
    "import pandas as pd\n",
    "import matplotlib.pyplot as plt\n",
    "import datetime as dt"
   ]
  },
  {
   "cell_type": "code",
   "execution_count": 2,
   "id": "1427c65f",
   "metadata": {},
   "outputs": [],
   "source": [
    "# прочитаем и сохраним данные\n",
    "df1 = pd.read_csv('/datasets/betat.csv')\n",
    "df2 = pd.read_csv('/datasets/car_income.csv')"
   ]
  },
  {
   "cell_type": "code",
   "execution_count": 3,
   "id": "99ef6aff",
   "metadata": {},
   "outputs": [
    {
     "data": {
      "text/html": [
       "<div>\n",
       "<style scoped>\n",
       "    .dataframe tbody tr th:only-of-type {\n",
       "        vertical-align: middle;\n",
       "    }\n",
       "\n",
       "    .dataframe tbody tr th {\n",
       "        vertical-align: top;\n",
       "    }\n",
       "\n",
       "    .dataframe thead th {\n",
       "        text-align: right;\n",
       "    }\n",
       "</style>\n",
       "<table border=\"1\" class=\"dataframe\">\n",
       "  <thead>\n",
       "    <tr style=\"text-align: right;\">\n",
       "      <th></th>\n",
       "      <th>datetime</th>\n",
       "      <th>user_id</th>\n",
       "      <th>nickname</th>\n",
       "      <th>respawn</th>\n",
       "      <th>revenue</th>\n",
       "      <th>device_ios_or_android</th>\n",
       "      <th>courier</th>\n",
       "      <th>restaurant</th>\n",
       "    </tr>\n",
       "  </thead>\n",
       "  <tbody>\n",
       "    <tr>\n",
       "      <th>0</th>\n",
       "      <td>24.07.2021 10:29:00</td>\n",
       "      <td>79878736010</td>\n",
       "      <td>Владимир</td>\n",
       "      <td>Оренбург, ул. Постникова, д. 9б,_,_,_</td>\n",
       "      <td>693.00</td>\n",
       "      <td>1</td>\n",
       "      <td>color</td>\n",
       "      <td>Sovet</td>\n",
       "    </tr>\n",
       "    <tr>\n",
       "      <th>1</th>\n",
       "      <td>24.07.2021 10:33:00</td>\n",
       "      <td>79033667992</td>\n",
       "      <td>Ольга</td>\n",
       "      <td>Оренбург, ул. Чкалова, д. 28, кв. 219, эт. 12,...</td>\n",
       "      <td>737.00</td>\n",
       "      <td>0</td>\n",
       "      <td>color</td>\n",
       "      <td>Sovet</td>\n",
       "    </tr>\n",
       "    <tr>\n",
       "      <th>2</th>\n",
       "      <td>24.07.2021 11:05:00</td>\n",
       "      <td>79878418091</td>\n",
       "      <td>Виктория</td>\n",
       "      <td>Оренбург, ул. Томилинская, д. 235,_,_,_</td>\n",
       "      <td>638.00</td>\n",
       "      <td>unknown</td>\n",
       "      <td>color</td>\n",
       "      <td>Sovet</td>\n",
       "    </tr>\n",
       "    <tr>\n",
       "      <th>3</th>\n",
       "      <td>24.07.2021 12:19:00</td>\n",
       "      <td>79228100614</td>\n",
       "      <td>unknown</td>\n",
       "      <td>Оренбург, ул. Деповская, д. 96,_,_,_</td>\n",
       "      <td>514.99</td>\n",
       "      <td>0</td>\n",
       "      <td>color</td>\n",
       "      <td>Sovet</td>\n",
       "    </tr>\n",
       "    <tr>\n",
       "      <th>4</th>\n",
       "      <td>24.07.2021 12:25:00</td>\n",
       "      <td>79010857083</td>\n",
       "      <td>Роман</td>\n",
       "      <td>Оренбург, пр-кт Победы, д. 13д,_,_,_</td>\n",
       "      <td>601.00</td>\n",
       "      <td>unknown</td>\n",
       "      <td>color</td>\n",
       "      <td>Sovet</td>\n",
       "    </tr>\n",
       "  </tbody>\n",
       "</table>\n",
       "</div>"
      ],
      "text/plain": [
       "              datetime      user_id  nickname  \\\n",
       "0  24.07.2021 10:29:00  79878736010  Владимир   \n",
       "1  24.07.2021 10:33:00  79033667992     Ольга   \n",
       "2  24.07.2021 11:05:00  79878418091  Виктория   \n",
       "3  24.07.2021 12:19:00  79228100614   unknown   \n",
       "4  24.07.2021 12:25:00  79010857083     Роман   \n",
       "\n",
       "                                             respawn  revenue  \\\n",
       "0              Оренбург, ул. Постникова, д. 9б,_,_,_   693.00   \n",
       "1  Оренбург, ул. Чкалова, д. 28, кв. 219, эт. 12,...   737.00   \n",
       "2            Оренбург, ул. Томилинская, д. 235,_,_,_   638.00   \n",
       "3               Оренбург, ул. Деповская, д. 96,_,_,_   514.99   \n",
       "4               Оренбург, пр-кт Победы, д. 13д,_,_,_   601.00   \n",
       "\n",
       "  device_ios_or_android courier restaurant  \n",
       "0                     1   color      Sovet  \n",
       "1                     0   color      Sovet  \n",
       "2               unknown   color      Sovet  \n",
       "3                     0   color      Sovet  \n",
       "4               unknown   color      Sovet  "
      ]
     },
     "execution_count": 3,
     "metadata": {},
     "output_type": "execute_result"
    }
   ],
   "source": [
    "# посмотрим на 1 таблицу\n",
    "df1.head()"
   ]
  },
  {
   "cell_type": "code",
   "execution_count": 4,
   "id": "34dfde24",
   "metadata": {},
   "outputs": [
    {
     "data": {
      "text/html": [
       "<div>\n",
       "<style scoped>\n",
       "    .dataframe tbody tr th:only-of-type {\n",
       "        vertical-align: middle;\n",
       "    }\n",
       "\n",
       "    .dataframe tbody tr th {\n",
       "        vertical-align: top;\n",
       "    }\n",
       "\n",
       "    .dataframe thead th {\n",
       "        text-align: right;\n",
       "    }\n",
       "</style>\n",
       "<table border=\"1\" class=\"dataframe\">\n",
       "  <thead>\n",
       "    <tr style=\"text-align: right;\">\n",
       "      <th></th>\n",
       "      <th>date</th>\n",
       "      <th>source_income</th>\n",
       "      <th>orders</th>\n",
       "      <th>slot_duration</th>\n",
       "      <th>restaurant</th>\n",
       "      <th>income</th>\n",
       "    </tr>\n",
       "  </thead>\n",
       "  <tbody>\n",
       "    <tr>\n",
       "      <th>0</th>\n",
       "      <td>15.12.2021</td>\n",
       "      <td>bk</td>\n",
       "      <td>16</td>\n",
       "      <td>12.0</td>\n",
       "      <td>Sovet</td>\n",
       "      <td>NaN</td>\n",
       "    </tr>\n",
       "    <tr>\n",
       "      <th>1</th>\n",
       "      <td>16.12.2021</td>\n",
       "      <td>bk</td>\n",
       "      <td>13</td>\n",
       "      <td>10.0</td>\n",
       "      <td>Sovet</td>\n",
       "      <td>NaN</td>\n",
       "    </tr>\n",
       "    <tr>\n",
       "      <th>2</th>\n",
       "      <td>17.12.2021</td>\n",
       "      <td>bk</td>\n",
       "      <td>13</td>\n",
       "      <td>12.0</td>\n",
       "      <td>Sovet</td>\n",
       "      <td>NaN</td>\n",
       "    </tr>\n",
       "    <tr>\n",
       "      <th>3</th>\n",
       "      <td>18.12.2021</td>\n",
       "      <td>bk</td>\n",
       "      <td>21</td>\n",
       "      <td>11.0</td>\n",
       "      <td>Sovet</td>\n",
       "      <td>NaN</td>\n",
       "    </tr>\n",
       "    <tr>\n",
       "      <th>4</th>\n",
       "      <td>19.12.2021</td>\n",
       "      <td>bk</td>\n",
       "      <td>13</td>\n",
       "      <td>12.0</td>\n",
       "      <td>Sovet</td>\n",
       "      <td>NaN</td>\n",
       "    </tr>\n",
       "  </tbody>\n",
       "</table>\n",
       "</div>"
      ],
      "text/plain": [
       "         date source_income  orders  slot_duration restaurant  income\n",
       "0  15.12.2021            bk      16           12.0      Sovet     NaN\n",
       "1  16.12.2021            bk      13           10.0      Sovet     NaN\n",
       "2  17.12.2021            bk      13           12.0      Sovet     NaN\n",
       "3  18.12.2021            bk      21           11.0      Sovet     NaN\n",
       "4  19.12.2021            bk      13           12.0      Sovet     NaN"
      ]
     },
     "execution_count": 4,
     "metadata": {},
     "output_type": "execute_result"
    }
   ],
   "source": [
    "# посмотрим на 2 таблицу\n",
    "df2.head()"
   ]
  },
  {
   "cell_type": "markdown",
   "id": "c94b5aec",
   "metadata": {},
   "source": [
    "Видим данные, их нужно будет подготовить и объединить. Объединять будем по дате. Изучим каждый датасет в отдельности и поймём с чем нужно будет работать."
   ]
  },
  {
   "cell_type": "markdown",
   "id": "f88a2f79",
   "metadata": {},
   "source": [
    "**df1**"
   ]
  },
  {
   "cell_type": "code",
   "execution_count": 5,
   "id": "d00f9226",
   "metadata": {},
   "outputs": [
    {
     "name": "stdout",
     "output_type": "stream",
     "text": [
      "<class 'pandas.core.frame.DataFrame'>\n",
      "RangeIndex: 1273 entries, 0 to 1272\n",
      "Data columns (total 8 columns):\n",
      " #   Column                 Non-Null Count  Dtype  \n",
      "---  ------                 --------------  -----  \n",
      " 0   datetime               1273 non-null   object \n",
      " 1   user_id                1273 non-null   int64  \n",
      " 2   nickname               1273 non-null   object \n",
      " 3   respawn                1273 non-null   object \n",
      " 4   revenue                1273 non-null   float64\n",
      " 5   device_ios_or_android  1273 non-null   object \n",
      " 6   courier                1273 non-null   object \n",
      " 7   restaurant             1273 non-null   object \n",
      "dtypes: float64(1), int64(1), object(6)\n",
      "memory usage: 79.7+ KB\n"
     ]
    }
   ],
   "source": [
    "df1.info()"
   ]
  },
  {
   "cell_type": "markdown",
   "id": "4b295aa1",
   "metadata": {},
   "source": [
    "**Общая информация:**\n",
    "* строк - 1273;\n",
    "* столбцов - 8.\n",
    "\n",
    "Названия столбцов в snake_case стиле. В доработке не нуждаются.\n",
    "\n",
    "**Типы данных:**\n",
    "* float - 1;\n",
    "* int - 1;\n",
    "* object - 6.\n",
    "\n",
    "Необходимо сменить тип данных в столбце `datetime` на datetime. Проработать момент с `device_ios_or_android` значение \"unknown\" говорит нам о том, что заказ был сделал из мобильного приложения \"delivery club\"."
   ]
  },
  {
   "cell_type": "code",
   "execution_count": 6,
   "id": "4931fbb8",
   "metadata": {},
   "outputs": [
    {
     "data": {
      "text/plain": [
       "datetime                 0.0\n",
       "user_id                  0.0\n",
       "nickname                 0.0\n",
       "respawn                  0.0\n",
       "revenue                  0.0\n",
       "device_ios_or_android    0.0\n",
       "courier                  0.0\n",
       "restaurant               0.0\n",
       "dtype: float64"
      ]
     },
     "execution_count": 6,
     "metadata": {},
     "output_type": "execute_result"
    }
   ],
   "source": [
    "df1.isna().mean()"
   ]
  },
  {
   "cell_type": "markdown",
   "id": "0a5a80da",
   "metadata": {},
   "source": [
    "Доля пропусков 0."
   ]
  },
  {
   "cell_type": "code",
   "execution_count": 7,
   "id": "ddc756b3",
   "metadata": {},
   "outputs": [
    {
     "data": {
      "text/plain": [
       "0"
      ]
     },
     "execution_count": 7,
     "metadata": {},
     "output_type": "execute_result"
    }
   ],
   "source": [
    "df1.duplicated().sum()"
   ]
  },
  {
   "cell_type": "markdown",
   "id": "c7dc6155",
   "metadata": {},
   "source": [
    "Явные дубликаты отсутствуют."
   ]
  },
  {
   "cell_type": "code",
   "execution_count": 43,
   "id": "c7c3117c",
   "metadata": {},
   "outputs": [
    {
     "data": {
      "text/plain": [
       "array(['Владимир', 'Ольга', 'Виктория', 'unknown', 'Роман', 'Алина',\n",
       "       'Дмитрий', 'Наталья', 'Екатерина', 'Дарья', 'Светлана', 'Арина',\n",
       "       'Антон', 'Илья', 'Даниил', 'Гузель', 'Кирилл', 'Яна', 'Алена',\n",
       "       'Джордж', 'Вячеслав', 'Алексей', 'Егор', 'Павел', 'Рузанна',\n",
       "       'Никита', 'Александра', 'Лилия', 'Анастасия', 'Игорь', 'Олеся',\n",
       "       'Рустам', 'Александр', 'Маргарита', 'Артем', 'Максим', 'Ирина',\n",
       "       'Николай', 'Жанна', 'Юлия', 'Кристина', 'Ринат', 'Татьяна',\n",
       "       'Евгений', 'Руслан', 'Виктор', 'Елена', 'Мария', 'Кумар', 'Сергей',\n",
       "       'Венера', 'Юлиана', 'Ксения', 'Вероника', 'Валерия', 'Нина',\n",
       "       'Вадим', 'Марина', 'Карина', 'Ерлан', 'Айгуль', 'Эльнора',\n",
       "       'Альбек', 'Регина', 'Дина', 'Виолетта', 'Денис', 'Лунара',\n",
       "       'Рузалия', 'Лиана', 'Азат', 'Ляззат', 'Саула', 'Вильдан',\n",
       "       'Елизавета', 'Седа', 'Инга', 'Аманат', 'Валерий', 'Михаил',\n",
       "       'Герман', 'Софья', 'Лидия', 'Розалия', 'Матвей', 'Вера', 'Инна',\n",
       "       'Анна', 'Fernando', 'Ростислав', 'Лина', 'Дамир', 'Галина',\n",
       "       'Виталий', 'Раиса', 'Евгения', 'Олег', 'Валентина', 'Чулпан',\n",
       "       'Полина', 'Анжела', 'Анатолий', 'Римма', 'Андрей', 'Арстан',\n",
       "       'Альберт', 'Эльвира', 'Ярослав', 'Пелагея', 'Тагир', 'Камилла',\n",
       "       'Диана', 'Федор', 'Сабрина', 'Лейла', 'Зияш', 'Фархад', 'Сания',\n",
       "       'Айсулу', 'Любовь', 'Ангелина', 'Эльвина', 'Волкова', 'Денислам',\n",
       "       'Василий', 'Асель', 'Господин', 'Афина', 'Константин', 'Ильнур',\n",
       "       'Оксана', 'Иван', 'Вахитова', 'Адель', 'Арсен', 'Лейсан', 'Нарек',\n",
       "       'Айнат', 'Саркис', 'Адам', 'Феклита', 'Авелина', 'Владислава',\n",
       "       'Владислав', 'Прохор', 'Арман', 'Лолита', 'Станислав', 'Марат',\n",
       "       'Аделина', 'Юлиан', 'Аделия', 'Людмила', 'Малик', 'Гульшат',\n",
       "       'Хаджимурат', 'Надежда', 'Анжелика', 'Алиса', 'Дилара', 'Армине',\n",
       "       'Савелий', 'Лариса', 'Аля', 'Ибрахим', 'Элла', 'Камран', 'Алек',\n",
       "       'Тимур', 'Кайрат', 'Юрий', 'Царь', 'Альбина', 'Айнель', 'Леонид',\n",
       "       'Марк', 'Гусь', 'Нигора', 'Милена', 'Бог', 'Асхат', 'Малика',\n",
       "       'Офелия', 'Динислам', 'Жан', 'Ислам', 'Наиль', 'Алия', 'Фурсат',\n",
       "       'Илиза', 'Глеб', 'Аида', 'Айдар', 'Ришат', 'Далер', 'Арсений',\n",
       "       'Азиза', 'Артур', 'Крот', 'Руфина', 'Рина', 'Ярославна', 'Закир',\n",
       "       'Рафаэль', 'Надир', 'Зоя', 'Махабат', 'Аймира', 'Борис',\n",
       "       'Сметанка', 'Наиля', 'Аслжан', 'Жанар', 'Эвелина', 'Гульфия',\n",
       "       'Сабина', 'Куат', 'Дана', 'Варя', 'Джамиля', 'Расул', 'Лада',\n",
       "       'Лусина', 'Викчонча', 'Булат', 'Шарма', 'Бахти', 'Рейна', 'Алсу',\n",
       "       'Расина'], dtype=object)"
      ]
     },
     "execution_count": 43,
     "metadata": {},
     "output_type": "execute_result"
    }
   ],
   "source": [
    "df1.nickname.unique()"
   ]
  },
  {
   "cell_type": "markdown",
   "id": "25e27908",
   "metadata": {},
   "source": [
    "В столбце `nickname` присутствуют неявные дубликаты."
   ]
  },
  {
   "cell_type": "code",
   "execution_count": 9,
   "id": "16faa38e",
   "metadata": {},
   "outputs": [
    {
     "data": {
      "text/plain": [
       "79033903911    5\n",
       "79870428340    5\n",
       "79228347146    5\n",
       "79878845157    4\n",
       "79242997725    4\n",
       "Name: user_id, dtype: int64"
      ]
     },
     "execution_count": 9,
     "metadata": {},
     "output_type": "execute_result"
    }
   ],
   "source": [
    "df1.user_id.value_counts()[:5]"
   ]
  },
  {
   "cell_type": "markdown",
   "id": "15f0cb0e",
   "metadata": {},
   "source": [
    "Есть повторы, которые говорят нам, что клиент заказывал не один раз, это хорошо для бизнеса."
   ]
  },
  {
   "cell_type": "code",
   "execution_count": 10,
   "id": "db7a793b",
   "metadata": {},
   "outputs": [
    {
     "data": {
      "text/plain": [
       "Оренбург, пр-кт Победы, д. 13Д,_,_,_                      6\n",
       "Оренбург, ул. Терешковой, д. 10/5, кв. 14, эт. 4, п. 1    5\n",
       "Оренбург, ул. Полигонная, д. 1/1, кв. 46, эт. 2, п. 2     5\n",
       "Оренбург, ул. Постникова, д. 9Б,_,_,_                     5\n",
       "Оренбург, ул. Ткачева, д. 85, кв. 34, эт. 9, п. 1         5\n",
       "Name: respawn, dtype: int64"
      ]
     },
     "execution_count": 10,
     "metadata": {},
     "output_type": "execute_result"
    }
   ],
   "source": [
    "df1.respawn.value_counts()[:5]"
   ]
  },
  {
   "cell_type": "markdown",
   "id": "382e608c",
   "metadata": {},
   "source": [
    "Повторы говорят про популярные адреса откуда поступают заказы."
   ]
  },
  {
   "cell_type": "code",
   "execution_count": 11,
   "id": "b9a352b5",
   "metadata": {},
   "outputs": [
    {
     "data": {
      "text/plain": [
       "699.0     33\n",
       "1099.0    21\n",
       "649.0     14\n",
       "799.0     11\n",
       "600.0     11\n",
       "Name: revenue, dtype: int64"
      ]
     },
     "execution_count": 11,
     "metadata": {},
     "output_type": "execute_result"
    }
   ],
   "source": [
    "df1.revenue.value_counts().head(5)"
   ]
  },
  {
   "cell_type": "markdown",
   "id": "577cc86b",
   "metadata": {},
   "source": [
    "Прослеживаются популярные суммы заказов, может быть, сумма связана с бесплатной доставкой. В таком случаем за счёт этого можно поднять средний чек."
   ]
  },
  {
   "cell_type": "code",
   "execution_count": 12,
   "id": "1e8265f7",
   "metadata": {},
   "outputs": [
    {
     "data": {
      "text/plain": [
       "red      1236\n",
       "color      37\n",
       "Name: courier, dtype: int64"
      ]
     },
     "execution_count": 12,
     "metadata": {},
     "output_type": "execute_result"
    }
   ],
   "source": [
    "df1.courier.value_counts()"
   ]
  },
  {
   "cell_type": "markdown",
   "id": "acfac59f",
   "metadata": {},
   "source": [
    "Есть данные по работе двух курьеров. Записей заказов 'red' намного больше."
   ]
  },
  {
   "cell_type": "code",
   "execution_count": 13,
   "id": "46e75b3d",
   "metadata": {},
   "outputs": [
    {
     "data": {
      "text/plain": [
       "Sovet     1002\n",
       "Teresh     179\n",
       "Salm        56\n",
       "Gagar       36\n",
       "Name: restaurant, dtype: int64"
      ]
     },
     "execution_count": 13,
     "metadata": {},
     "output_type": "execute_result"
    }
   ],
   "source": [
    "df1.restaurant.value_counts()"
   ]
  },
  {
   "cell_type": "markdown",
   "id": "9fac697f",
   "metadata": {},
   "source": [
    "Доставки осуществлялись c 4 ресторанов Burger King. Больше всего заказов вывезено с \"Sovet\"."
   ]
  },
  {
   "cell_type": "markdown",
   "id": "717cac99",
   "metadata": {},
   "source": [
    "**df2**"
   ]
  },
  {
   "cell_type": "code",
   "execution_count": 14,
   "id": "f0e88ffb",
   "metadata": {},
   "outputs": [
    {
     "name": "stdout",
     "output_type": "stream",
     "text": [
      "<class 'pandas.core.frame.DataFrame'>\n",
      "RangeIndex: 174 entries, 0 to 173\n",
      "Data columns (total 6 columns):\n",
      " #   Column         Non-Null Count  Dtype  \n",
      "---  ------         --------------  -----  \n",
      " 0   date           174 non-null    object \n",
      " 1   source_income  174 non-null    object \n",
      " 2   orders         174 non-null    int64  \n",
      " 3   slot_duration  174 non-null    float64\n",
      " 4   restaurant     67 non-null     object \n",
      " 5   income         113 non-null    float64\n",
      "dtypes: float64(2), int64(1), object(3)\n",
      "memory usage: 8.3+ KB\n"
     ]
    }
   ],
   "source": [
    "df2.info()"
   ]
  },
  {
   "cell_type": "markdown",
   "id": "bbcf1eb6",
   "metadata": {},
   "source": [
    "**Общая информация:**\n",
    "* строк - 174;\n",
    "* столбцов - 6.\n",
    "\n",
    "Названия столбцов в snake_case стиле. В доработке не нуждаются.\n",
    "\n",
    "**Типы данных:**\n",
    "* float - 2;\n",
    "* int - 1;\n",
    "* object - 3.\n",
    "\n",
    "Необходимо сменить тип данных в столбце `date` на datetime. Проработать момент с `slot_duration`."
   ]
  },
  {
   "cell_type": "code",
   "execution_count": 15,
   "id": "f904e274",
   "metadata": {},
   "outputs": [
    {
     "data": {
      "text/plain": [
       "date             0.000000\n",
       "source_income    0.000000\n",
       "orders           0.000000\n",
       "slot_duration    0.000000\n",
       "restaurant       0.614943\n",
       "income           0.350575\n",
       "dtype: float64"
      ]
     },
     "execution_count": 15,
     "metadata": {},
     "output_type": "execute_result"
    }
   ],
   "source": [
    "df2.isna().mean()"
   ]
  },
  {
   "cell_type": "markdown",
   "id": "377086fc",
   "metadata": {},
   "source": [
    "**Пропуски:**\n",
    "* restaurant - 61%;\n",
    "* income - 35%.\n",
    "\n",
    "Выясним с чем связаны пропуски."
   ]
  },
  {
   "cell_type": "code",
   "execution_count": 16,
   "id": "84b1a41e",
   "metadata": {},
   "outputs": [
    {
     "data": {
      "text/plain": [
       "array(['Sovet', 'Teresh', 'Gagar', 'tk113', 'tk248', 'tk240', nan],\n",
       "      dtype=object)"
      ]
     },
     "execution_count": 16,
     "metadata": {},
     "output_type": "execute_result"
    }
   ],
   "source": [
    "df2.restaurant.unique()"
   ]
  },
  {
   "cell_type": "markdown",
   "id": "0cd4f895",
   "metadata": {},
   "source": [
    "**Точки старта burger king:**\n",
    "* 'Sovet';\n",
    "* 'Teresh'; \n",
    "* 'Gagar'.\n",
    "\n",
    "**Точки старта lenta:**\n",
    "* 'tk113';\n",
    "* tk248';\n",
    "* 'tk240'.\n",
    "\n",
    "**Точки старта delivery club:**\n",
    "* NaN.\n",
    "\n",
    "Пропуски связаны с тем, что старт слота в delivery club свободный и не привязан к ресторану, как в burger king или lenta."
   ]
  },
  {
   "cell_type": "code",
   "execution_count": 17,
   "id": "ffab062a",
   "metadata": {},
   "outputs": [
    {
     "data": {
      "text/plain": [
       "array([  nan,  810.,  760., 2820., 2550., 2730., 1006., 1411., 1625.,\n",
       "       1905., 1018., 1617.,  619.,  613., 2292., 2400., 1581., 1224.,\n",
       "        412., 1750.,  205., 2742., 1342., 1656., 2487., 1696., 1622.,\n",
       "       1321., 3603., 1790., 1619., 1503., 1356., 1320., 1021., 1547.,\n",
       "       1803., 1705., 1180., 1226., 1778., 1808., 1116., 1694.,  927.,\n",
       "        136., 2754., 1478., 2150., 1521., 1773., 1166., 2088., 1339.,\n",
       "       2084., 3299., 1375., 2107., 3270., 1386., 1460., 1193., 1553.,\n",
       "        925., 1421., 2141., 3093., 2310., 1988., 1663., 2402., 1745.,\n",
       "       2115., 1574., 1281., 2757., 2203., 1664., 1082., 2600., 3557.,\n",
       "       1586., 1815., 1487., 2132., 1873., 2740., 2689.,  261., 2934.,\n",
       "       3690., 2215., 2123., 2492.,  733., 2121., 1753., 3890., 1216.,\n",
       "       2287., 3541., 2621., 3294., 1220., 2186., 2134., 2426., 1330.,\n",
       "       4776., 2144., 1154., 1526.,  174.])"
      ]
     },
     "execution_count": 17,
     "metadata": {},
     "output_type": "execute_result"
    }
   ],
   "source": [
    "df2.income.unique()"
   ]
  },
  {
   "cell_type": "markdown",
   "id": "64378508",
   "metadata": {},
   "source": [
    "Пропуски появились из-за burger king, для их заполнения необходимо число заказов(`orders`) перемножить на 150(стоимость одного заказа)."
   ]
  },
  {
   "cell_type": "code",
   "execution_count": 18,
   "id": "f0ee639c",
   "metadata": {},
   "outputs": [
    {
     "data": {
      "text/plain": [
       "0"
      ]
     },
     "execution_count": 18,
     "metadata": {},
     "output_type": "execute_result"
    }
   ],
   "source": [
    "df2.duplicated().sum()"
   ]
  },
  {
   "cell_type": "markdown",
   "id": "51f3f097",
   "metadata": {},
   "source": [
    "Явных дубликатов нет."
   ]
  },
  {
   "cell_type": "code",
   "execution_count": 19,
   "id": "7cb4348a",
   "metadata": {},
   "outputs": [
    {
     "data": {
      "text/plain": [
       "dc       107\n",
       "bk        61\n",
       "lenta      6\n",
       "Name: source_income, dtype: int64"
      ]
     },
     "execution_count": 19,
     "metadata": {},
     "output_type": "execute_result"
    }
   ],
   "source": [
    "df2.source_income.value_counts()"
   ]
  },
  {
   "cell_type": "code",
   "execution_count": 20,
   "id": "3f759a57",
   "metadata": {},
   "outputs": [
    {
     "data": {
      "text/plain": [
       "12.0    24\n",
       "4.0     24\n",
       "8.0     21\n",
       "6.0     18\n",
       "9.0     17\n",
       "7.0     17\n",
       "5.0     16\n",
       "11.0    12\n",
       "10.0     8\n",
       "13.0     4\n",
       "1.0      2\n",
       "9.5      2\n",
       "14.0     2\n",
       "3.0      2\n",
       "13.5     1\n",
       "7.5      1\n",
       "2.0      1\n",
       "12.5     1\n",
       "0.0      1\n",
       "Name: slot_duration, dtype: int64"
      ]
     },
     "execution_count": 20,
     "metadata": {},
     "output_type": "execute_result"
    }
   ],
   "source": [
    "df2.slot_duration.value_counts()"
   ]
  },
  {
   "cell_type": "code",
   "execution_count": 21,
   "id": "8b5001de",
   "metadata": {},
   "outputs": [
    {
     "data": {
      "text/plain": [
       "Sovet     37\n",
       "Gagar     17\n",
       "Teresh     7\n",
       "tk248      3\n",
       "tk240      2\n",
       "tk113      1\n",
       "Name: restaurant, dtype: int64"
      ]
     },
     "execution_count": 21,
     "metadata": {},
     "output_type": "execute_result"
    }
   ],
   "source": [
    "df2.restaurant.value_counts()"
   ]
  },
  {
   "cell_type": "markdown",
   "id": "8f95a26a",
   "metadata": {},
   "source": [
    "Неявных дубликатов нет."
   ]
  },
  {
   "cell_type": "markdown",
   "id": "5828541f",
   "metadata": {},
   "source": [
    "### Вывод"
   ]
  },
  {
   "cell_type": "markdown",
   "id": "0b2448cb",
   "metadata": {},
   "source": [
    "**df1**\n",
    "\n",
    "**Общая информация:**\n",
    "* строк - 1273;\n",
    "* столбцов - 8.\n",
    "\n",
    "Названия столбцов в snake_case стиле. В доработке не нуждаются.\n",
    "\n",
    "**Типы данных:**\n",
    "* float - 1;\n",
    "* int - 1;\n",
    "* object - 6.\n",
    "\n",
    "Необходимо сменить тип данных в столбце `datetime` на datetime. Проработать момент с `device_ios_or_android` значение \"unknown\" говорит нам о том, что заказ был сделал из мобильного приложения \"delivery club\".\n",
    "\n",
    "Пропуски и явные дубликаты в данных отсутствуют.\n",
    "\n",
    "В столбце `nickname` присутствуют неявные дубликаты.\n",
    "\n",
    "**df2**\n",
    "\n",
    "**Общая информация:**\n",
    "* строк - 174;\n",
    "* столбцов - 6.\n",
    "\n",
    "Названия столбцов в snake_case стиле. В доработке не нуждаются.\n",
    "\n",
    "**Типы данных:**\n",
    "* float - 2;\n",
    "* int - 1;\n",
    "* object - 3.\n",
    "\n",
    "Необходимо сменить тип данных в столбце `date` на datetime. Проработать момент с `slot_duration`.\n",
    "\n",
    "**Пропуски:**\n",
    "* restaurant - 61%;\n",
    "* income - 35%.\n",
    "\n",
    "Пропуски в `restaurant` связаны с тем, что старт слота в delivery club свободный и не привязан к ресторану, как в burger king или lenta.\n",
    "\n",
    "Пропуски в `income` появились из-за burger king(bk), для их заполнения необходимо число заказов(`orders`) перемножить на 150(стоимость одного заказа).\n",
    "\n",
    "Явных/неявных дубликатов нет."
   ]
  },
  {
   "cell_type": "markdown",
   "id": "29f9bd97",
   "metadata": {},
   "source": [
    "## Предобработка данных"
   ]
  },
  {
   "cell_type": "markdown",
   "id": "7fe60934",
   "metadata": {},
   "source": [
    "**df1**"
   ]
  },
  {
   "cell_type": "code",
   "execution_count": 22,
   "id": "8512fed7",
   "metadata": {},
   "outputs": [
    {
     "data": {
      "text/html": [
       "<div>\n",
       "<style scoped>\n",
       "    .dataframe tbody tr th:only-of-type {\n",
       "        vertical-align: middle;\n",
       "    }\n",
       "\n",
       "    .dataframe tbody tr th {\n",
       "        vertical-align: top;\n",
       "    }\n",
       "\n",
       "    .dataframe thead th {\n",
       "        text-align: right;\n",
       "    }\n",
       "</style>\n",
       "<table border=\"1\" class=\"dataframe\">\n",
       "  <thead>\n",
       "    <tr style=\"text-align: right;\">\n",
       "      <th></th>\n",
       "      <th>datetime</th>\n",
       "      <th>user_id</th>\n",
       "      <th>nickname</th>\n",
       "      <th>respawn</th>\n",
       "      <th>revenue</th>\n",
       "      <th>device_ios_or_android</th>\n",
       "      <th>courier</th>\n",
       "      <th>restaurant</th>\n",
       "    </tr>\n",
       "  </thead>\n",
       "  <tbody>\n",
       "    <tr>\n",
       "      <th>0</th>\n",
       "      <td>24.07.2021 10:29:00</td>\n",
       "      <td>79878736010</td>\n",
       "      <td>Владимир</td>\n",
       "      <td>Оренбург, ул. Постникова, д. 9б,_,_,_</td>\n",
       "      <td>693.00</td>\n",
       "      <td>1</td>\n",
       "      <td>color</td>\n",
       "      <td>Sovet</td>\n",
       "    </tr>\n",
       "    <tr>\n",
       "      <th>1</th>\n",
       "      <td>24.07.2021 10:33:00</td>\n",
       "      <td>79033667992</td>\n",
       "      <td>Ольга</td>\n",
       "      <td>Оренбург, ул. Чкалова, д. 28, кв. 219, эт. 12,...</td>\n",
       "      <td>737.00</td>\n",
       "      <td>0</td>\n",
       "      <td>color</td>\n",
       "      <td>Sovet</td>\n",
       "    </tr>\n",
       "    <tr>\n",
       "      <th>2</th>\n",
       "      <td>24.07.2021 11:05:00</td>\n",
       "      <td>79878418091</td>\n",
       "      <td>Виктория</td>\n",
       "      <td>Оренбург, ул. Томилинская, д. 235,_,_,_</td>\n",
       "      <td>638.00</td>\n",
       "      <td>unknown</td>\n",
       "      <td>color</td>\n",
       "      <td>Sovet</td>\n",
       "    </tr>\n",
       "    <tr>\n",
       "      <th>3</th>\n",
       "      <td>24.07.2021 12:19:00</td>\n",
       "      <td>79228100614</td>\n",
       "      <td>unknown</td>\n",
       "      <td>Оренбург, ул. Деповская, д. 96,_,_,_</td>\n",
       "      <td>514.99</td>\n",
       "      <td>0</td>\n",
       "      <td>color</td>\n",
       "      <td>Sovet</td>\n",
       "    </tr>\n",
       "    <tr>\n",
       "      <th>4</th>\n",
       "      <td>24.07.2021 12:25:00</td>\n",
       "      <td>79010857083</td>\n",
       "      <td>Роман</td>\n",
       "      <td>Оренбург, пр-кт Победы, д. 13д,_,_,_</td>\n",
       "      <td>601.00</td>\n",
       "      <td>unknown</td>\n",
       "      <td>color</td>\n",
       "      <td>Sovet</td>\n",
       "    </tr>\n",
       "  </tbody>\n",
       "</table>\n",
       "</div>"
      ],
      "text/plain": [
       "              datetime      user_id  nickname  \\\n",
       "0  24.07.2021 10:29:00  79878736010  Владимир   \n",
       "1  24.07.2021 10:33:00  79033667992     Ольга   \n",
       "2  24.07.2021 11:05:00  79878418091  Виктория   \n",
       "3  24.07.2021 12:19:00  79228100614   unknown   \n",
       "4  24.07.2021 12:25:00  79010857083     Роман   \n",
       "\n",
       "                                             respawn  revenue  \\\n",
       "0              Оренбург, ул. Постникова, д. 9б,_,_,_   693.00   \n",
       "1  Оренбург, ул. Чкалова, д. 28, кв. 219, эт. 12,...   737.00   \n",
       "2            Оренбург, ул. Томилинская, д. 235,_,_,_   638.00   \n",
       "3               Оренбург, ул. Деповская, д. 96,_,_,_   514.99   \n",
       "4               Оренбург, пр-кт Победы, д. 13д,_,_,_   601.00   \n",
       "\n",
       "  device_ios_or_android courier restaurant  \n",
       "0                     1   color      Sovet  \n",
       "1                     0   color      Sovet  \n",
       "2               unknown   color      Sovet  \n",
       "3                     0   color      Sovet  \n",
       "4               unknown   color      Sovet  "
      ]
     },
     "execution_count": 22,
     "metadata": {},
     "output_type": "execute_result"
    }
   ],
   "source": [
    "# взглянем на данные\n",
    "df1.head()"
   ]
  },
  {
   "cell_type": "code",
   "execution_count": 46,
   "id": "eca1c0a8",
   "metadata": {},
   "outputs": [
    {
     "name": "stdout",
     "output_type": "stream",
     "text": [
      "<class 'pandas.core.frame.DataFrame'>\n",
      "RangeIndex: 1273 entries, 0 to 1272\n",
      "Data columns (total 8 columns):\n",
      " #   Column                 Non-Null Count  Dtype         \n",
      "---  ------                 --------------  -----         \n",
      " 0   datetime               1273 non-null   datetime64[ns]\n",
      " 1   user_id                1273 non-null   int64         \n",
      " 2   nickname               1273 non-null   object        \n",
      " 3   respawn                1273 non-null   object        \n",
      " 4   revenue                1273 non-null   float64       \n",
      " 5   device_ios_or_android  1273 non-null   object        \n",
      " 6   courier                1273 non-null   object        \n",
      " 7   restaurant             1273 non-null   object        \n",
      "dtypes: datetime64[ns](1), float64(1), int64(1), object(5)\n",
      "memory usage: 79.7+ KB\n"
     ]
    }
   ],
   "source": [
    "# сменим тип данных в столбце \"datetime\"\n",
    "df1['datetime'] = pd.to_datetime(df1['datetime'], format='%d.%m.%Y %H:%M:%S')\n",
    "# проверим результат\n",
    "df1.info()"
   ]
  },
  {
   "cell_type": "markdown",
   "id": "cf5a4d66",
   "metadata": {},
   "source": [
    "Тип данных изменён."
   ]
  },
  {
   "cell_type": "code",
   "execution_count": 24,
   "id": "5c12dfba",
   "metadata": {},
   "outputs": [
    {
     "data": {
      "text/plain": [
       "unknown     712\n",
       "1           374\n",
       "0           186\n",
       "unknown\"      1\n",
       "Name: device_ios_or_android, dtype: int64"
      ]
     },
     "execution_count": 24,
     "metadata": {},
     "output_type": "execute_result"
    }
   ],
   "source": [
    "# займёмся столбцом device_ios_or_android\n",
    "df1.device_ios_or_android.value_counts()"
   ]
  },
  {
   "cell_type": "markdown",
   "id": "683d8cd6",
   "metadata": {},
   "source": [
    "Видим неявный дубликат `unknown\"`."
   ]
  },
  {
   "cell_type": "code",
   "execution_count": 25,
   "id": "61eaf900",
   "metadata": {},
   "outputs": [
    {
     "data": {
      "text/plain": [
       "unknown    713\n",
       "1          374\n",
       "0          186\n",
       "Name: device_ios_or_android, dtype: int64"
      ]
     },
     "execution_count": 25,
     "metadata": {},
     "output_type": "execute_result"
    }
   ],
   "source": [
    "# уберем дубликат\n",
    "df1['device_ios_or_android'] = df1['device_ios_or_android'].replace('unknown\"', 'unknown')\n",
    "df1.device_ios_or_android.value_counts()"
   ]
  },
  {
   "cell_type": "markdown",
   "id": "bba4e225",
   "metadata": {},
   "source": [
    "Дубликат убран. Займёмся столбцом `nickname`."
   ]
  },
  {
   "cell_type": "code",
   "execution_count": 26,
   "id": "aa605766",
   "metadata": {},
   "outputs": [
    {
     "data": {
      "text/plain": [
       "268"
      ]
     },
     "execution_count": 26,
     "metadata": {},
     "output_type": "execute_result"
    }
   ],
   "source": [
    "# уникальных имен до изменений\n",
    "len(df1.nickname.unique())"
   ]
  },
  {
   "cell_type": "code",
   "execution_count": 47,
   "id": "6e629022",
   "metadata": {},
   "outputs": [
    {
     "data": {
      "text/plain": [
       "array(['Владимир', 'Ольга', 'Виктория', 'unknown', 'Роман', 'Алина',\n",
       "       'Дмитрий', 'Наталья', 'Екатерина', 'Дарья', 'Светлана', 'Арина',\n",
       "       'Антон', 'Илья', 'Даниил', 'Гузель', 'Кирилл', 'Яна', 'Алена',\n",
       "       'Джордж', 'Вячеслав', 'Алексей', 'Егор', 'Павел', 'Рузанна',\n",
       "       'Никита', 'Александра', 'Лилия', 'Анастасия', 'Игорь', 'Олеся',\n",
       "       'Рустам', 'Александр', 'Маргарита', 'Артем', 'Максим', 'Ирина',\n",
       "       'Николай', 'Жанна', 'Юлия', 'Кристина', 'Ринат', 'Татьяна',\n",
       "       'Евгений', 'Руслан', 'Виктор', 'Елена', 'Мария', 'Кумар', 'Сергей',\n",
       "       'Венера', 'Юлиана', 'Ксения', 'Вероника', 'Валерия', 'Нина',\n",
       "       'Вадим', 'Марина', 'Карина', 'Ерлан', 'Айгуль', 'Эльнора',\n",
       "       'Альбек', 'Регина', 'Дина', 'Виолетта', 'Денис', 'Лунара',\n",
       "       'Рузалия', 'Лиана', 'Азат', 'Ляззат', 'Саула', 'Вильдан',\n",
       "       'Елизавета', 'Седа', 'Инга', 'Аманат', 'Валерий', 'Михаил',\n",
       "       'Герман', 'Софья', 'Лидия', 'Розалия', 'Матвей', 'Вера', 'Инна',\n",
       "       'Анна', 'Fernando', 'Ростислав', 'Лина', 'Дамир', 'Галина',\n",
       "       'Виталий', 'Раиса', 'Евгения', 'Олег', 'Валентина', 'Чулпан',\n",
       "       'Полина', 'Анжела', 'Анатолий', 'Римма', 'Андрей', 'Арстан',\n",
       "       'Альберт', 'Эльвира', 'Ярослав', 'Пелагея', 'Тагир', 'Камилла',\n",
       "       'Диана', 'Федор', 'Сабрина', 'Лейла', 'Зияш', 'Фархад', 'Сания',\n",
       "       'Айсулу', 'Любовь', 'Ангелина', 'Эльвина', 'Волкова', 'Денислам',\n",
       "       'Василий', 'Асель', 'Господин', 'Афина', 'Константин', 'Ильнур',\n",
       "       'Оксана', 'Иван', 'Вахитова', 'Адель', 'Арсен', 'Лейсан', 'Нарек',\n",
       "       'Айнат', 'Саркис', 'Адам', 'Феклита', 'Авелина', 'Владислава',\n",
       "       'Владислав', 'Прохор', 'Арман', 'Лолита', 'Станислав', 'Марат',\n",
       "       'Аделина', 'Юлиан', 'Аделия', 'Людмила', 'Малик', 'Гульшат',\n",
       "       'Хаджимурат', 'Надежда', 'Анжелика', 'Алиса', 'Дилара', 'Армине',\n",
       "       'Савелий', 'Лариса', 'Аля', 'Ибрахим', 'Элла', 'Камран', 'Алек',\n",
       "       'Тимур', 'Кайрат', 'Юрий', 'Царь', 'Альбина', 'Айнель', 'Леонид',\n",
       "       'Марк', 'Гусь', 'Нигора', 'Милена', 'Бог', 'Асхат', 'Малика',\n",
       "       'Офелия', 'Динислам', 'Жан', 'Ислам', 'Наиль', 'Алия', 'Фурсат',\n",
       "       'Илиза', 'Глеб', 'Аида', 'Айдар', 'Ришат', 'Далер', 'Арсений',\n",
       "       'Азиза', 'Артур', 'Крот', 'Руфина', 'Рина', 'Ярославна', 'Закир',\n",
       "       'Рафаэль', 'Надир', 'Зоя', 'Махабат', 'Аймира', 'Борис',\n",
       "       'Сметанка', 'Наиля', 'Аслжан', 'Жанар', 'Эвелина', 'Гульфия',\n",
       "       'Сабина', 'Куат', 'Дана', 'Варя', 'Джамиля', 'Расул', 'Лада',\n",
       "       'Лусина', 'Викчонча', 'Булат', 'Шарма', 'Бахти', 'Рейна', 'Алсу',\n",
       "       'Расина'], dtype=object)"
      ]
     },
     "execution_count": 47,
     "metadata": {},
     "output_type": "execute_result"
    }
   ],
   "source": [
    "# список уникальных имен\n",
    "df1.nickname.unique()"
   ]
  },
  {
   "cell_type": "code",
   "execution_count": 28,
   "id": "101802aa",
   "metadata": {},
   "outputs": [],
   "source": [
    "df1['nickname'] = df1['nickname'].replace({'Паша': 'Павел', \n",
    "                                           'Julia': 'Юлия',\n",
    "                                           'Юличка': 'Юлия',\n",
    "                                           'Оля': 'Ольга',\n",
    "                                           'Вика': 'Виктория',\n",
    "                                           'Катя': 'Екатерина',\n",
    "                                           'Катенька': 'Екатерина',\n",
    "                                           'Катерина': 'Екатерина',\n",
    "                                           'Саша': 'Александр',\n",
    "                                           'Влада': 'Владислава',\n",
    "                                           'Влад': 'Владислав',\n",
    "                                           'Вован': 'Владимир',\n",
    "                                           'Лиза': 'Елизавета',\n",
    "                                           'Катюня': 'Екатерина',\n",
    "                                           'Ekaterina': 'Екатерина',\n",
    "                                           'Slava': 'Вячеслав',\n",
    "                                           'Слава': 'Вячеслав',\n",
    "                                           'Ксюша': 'Ксения',\n",
    "                                           'Ксю': 'Ксения',\n",
    "                                           'Валера': 'Валерий',\n",
    "                                           'Леся': 'Олеся',\n",
    "                                           'Дима': 'Дмитрий',\n",
    "                                           'Лена': 'Елена',\n",
    "                                           'Настя': 'Анастасия',\n",
    "                                           'Виола': 'Виолетта',\n",
    "                                           '123': 'unknown',\n",
    "                                           'Дорджи': 'Джордж',\n",
    "                                           'Джорджи': 'Джордж',\n",
    "                                           'Даша': 'Дарья',\n",
    "                                           'Ника': 'Вероника',\n",
    "                                           'Костя': 'Константин',\n",
    "                                           'Колян': 'Николай',\n",
    "                                           'Соня': 'Софья',\n",
    "                                           'Лида': 'Лидия',\n",
    "                                           'Данил': 'Даниил',\n",
    "                                           'Данила': 'Даниил',\n",
    "                                           'Аня': 'Анна',\n",
    "                                           'Мари': 'Мария'\n",
    "                                          }) "
   ]
  },
  {
   "cell_type": "code",
   "execution_count": 29,
   "id": "598bf797",
   "metadata": {},
   "outputs": [
    {
     "data": {
      "text/plain": [
       "230"
      ]
     },
     "execution_count": 29,
     "metadata": {},
     "output_type": "execute_result"
    }
   ],
   "source": [
    "len(df1.nickname.unique())"
   ]
  },
  {
   "cell_type": "code",
   "execution_count": 30,
   "id": "1ca80119",
   "metadata": {},
   "outputs": [
    {
     "data": {
      "text/plain": [
       "array(['Владимир', 'Ольга', 'Виктория', 'unknown', 'Роман', 'Алина',\n",
       "       'Дмитрий', 'Наталья', 'Екатерина', 'Дарья', 'Светлана', 'Арина',\n",
       "       'Антон', 'Илья', 'Даниил', 'Гузель', 'Кирилл', 'Яна', 'Алена',\n",
       "       'Джордж', 'Вячеслав', 'Алексей', 'Егор', 'Павел', 'Рузанна',\n",
       "       'Никита', 'Александра', 'Лилия', 'Анастасия', 'Игорь', 'Олеся',\n",
       "       'Рустам', 'Александр', 'Маргарита', 'Артем', 'Максим', 'Ирина',\n",
       "       'Николай', 'Жанна', 'Юлия', 'Кристина', 'Ринат', 'Татьяна',\n",
       "       'Евгений', 'Руслан', 'Виктор', 'Елена', 'Мария', 'Кумар', 'Сергей',\n",
       "       'Венера', 'Юлиана', 'Ксения', 'Вероника', 'Валерия', 'Нина',\n",
       "       'Вадим', 'Марина', 'Карина', 'Ерлан', 'Айгуль', 'Эльнора',\n",
       "       'Альбек', 'Регина', 'Дина', 'Виолетта', 'Денис', 'Лунара',\n",
       "       'Рузалия', 'Лиана', 'Азат', 'Ляззат', 'Саула', 'Вильдан',\n",
       "       'Елизавета', 'Седа', 'Инга', 'Аманат', 'Валерий', 'Михаил',\n",
       "       'Герман', 'Софья', 'Лидия', 'Розалия', 'Матвей', 'Вера', 'Инна',\n",
       "       'Анна', 'Fernando', 'Ростислав', 'Лина', 'Дамир', 'Галина',\n",
       "       'Виталий', 'Раиса', 'Евгения', 'Олег', 'Валентина', 'Чулпан',\n",
       "       'Полина', 'Анжела', 'Анатолий', 'Римма', 'Андрей', 'Арстан',\n",
       "       'Альберт', 'Эльвира', 'Ярослав', 'Пелагея', 'Тагир', 'Камилла',\n",
       "       'Диана', 'Федор', 'Сабрина', 'Лейла', 'Зияш', 'Фархад', 'Сания',\n",
       "       'Айсулу', 'Любовь', 'Ангелина', 'Эльвина', 'Волкова', 'Денислам',\n",
       "       'Василий', 'Асель', 'Господин', 'Афина', 'Константин', 'Ильнур',\n",
       "       'Оксана', 'Иван', 'Вахитова', 'Адель', 'Арсен', 'Лейсан', 'Нарек',\n",
       "       'Айнат', 'Саркис', 'Адам', 'Феклита', 'Авелина', 'Владислава',\n",
       "       'Владислав', 'Прохор', 'Арман', 'Лолита', 'Станислав', 'Марат',\n",
       "       'Аделина', 'Юлиан', 'Аделия', 'Людмила', 'Малик', 'Гульшат',\n",
       "       'Хаджимурат', 'Надежда', 'Анжелика', 'Алиса', 'Дилара', 'Армине',\n",
       "       'Савелий', 'Лариса', 'Аля', 'Ибрахим', 'Элла', 'Камран', 'Алек',\n",
       "       'Тимур', 'Кайрат', 'Юрий', 'Царь', 'Альбина', 'Айнель', 'Леонид',\n",
       "       'Марк', 'Гусь', 'Нигора', 'Милена', 'Бог', 'Асхат', 'Малика',\n",
       "       'Офелия', 'Динислам', 'Жан', 'Ислам', 'Наиль', 'Алия', 'Фурсат',\n",
       "       'Илиза', 'Глеб', 'Аида', 'Айдар', 'Ришат', 'Далер', 'Арсений',\n",
       "       'Азиза', 'Артур', 'Крот', 'Руфина', 'Рина', 'Ярославна', 'Закир',\n",
       "       'Рафаэль', 'Надир', 'Зоя', 'Махабат', 'Аймира', 'Борис',\n",
       "       'Сметанка', 'Наиля', 'Аслжан', 'Жанар', 'Эвелина', 'Гульфия',\n",
       "       'Сабина', 'Куат', 'Дана', 'Варя', 'Джамиля', 'Расул', 'Лада',\n",
       "       'Лусина', 'Викчонча', 'Булат', 'Шарма', 'Бахти', 'Рейна', 'Алсу',\n",
       "       'Расина'], dtype=object)"
      ]
     },
     "execution_count": 30,
     "metadata": {},
     "output_type": "execute_result"
    }
   ],
   "source": [
    "df1.nickname.unique()"
   ]
  },
  {
   "cell_type": "markdown",
   "id": "0bf3aec9",
   "metadata": {},
   "source": [
    "Неявные дубликаты столбца `nickname` убраны, было - 268 имён, стало - 230."
   ]
  },
  {
   "cell_type": "markdown",
   "id": "819fd934",
   "metadata": {},
   "source": [
    "**df2**"
   ]
  },
  {
   "cell_type": "code",
   "execution_count": 31,
   "id": "576529ae",
   "metadata": {
    "scrolled": false
   },
   "outputs": [
    {
     "data": {
      "text/html": [
       "<div>\n",
       "<style scoped>\n",
       "    .dataframe tbody tr th:only-of-type {\n",
       "        vertical-align: middle;\n",
       "    }\n",
       "\n",
       "    .dataframe tbody tr th {\n",
       "        vertical-align: top;\n",
       "    }\n",
       "\n",
       "    .dataframe thead th {\n",
       "        text-align: right;\n",
       "    }\n",
       "</style>\n",
       "<table border=\"1\" class=\"dataframe\">\n",
       "  <thead>\n",
       "    <tr style=\"text-align: right;\">\n",
       "      <th></th>\n",
       "      <th>date</th>\n",
       "      <th>source_income</th>\n",
       "      <th>orders</th>\n",
       "      <th>slot_duration</th>\n",
       "      <th>restaurant</th>\n",
       "      <th>income</th>\n",
       "    </tr>\n",
       "  </thead>\n",
       "  <tbody>\n",
       "    <tr>\n",
       "      <th>0</th>\n",
       "      <td>15.12.2021</td>\n",
       "      <td>bk</td>\n",
       "      <td>16</td>\n",
       "      <td>12.0</td>\n",
       "      <td>Sovet</td>\n",
       "      <td>NaN</td>\n",
       "    </tr>\n",
       "    <tr>\n",
       "      <th>1</th>\n",
       "      <td>16.12.2021</td>\n",
       "      <td>bk</td>\n",
       "      <td>13</td>\n",
       "      <td>10.0</td>\n",
       "      <td>Sovet</td>\n",
       "      <td>NaN</td>\n",
       "    </tr>\n",
       "    <tr>\n",
       "      <th>2</th>\n",
       "      <td>17.12.2021</td>\n",
       "      <td>bk</td>\n",
       "      <td>13</td>\n",
       "      <td>12.0</td>\n",
       "      <td>Sovet</td>\n",
       "      <td>NaN</td>\n",
       "    </tr>\n",
       "    <tr>\n",
       "      <th>3</th>\n",
       "      <td>18.12.2021</td>\n",
       "      <td>bk</td>\n",
       "      <td>21</td>\n",
       "      <td>11.0</td>\n",
       "      <td>Sovet</td>\n",
       "      <td>NaN</td>\n",
       "    </tr>\n",
       "    <tr>\n",
       "      <th>4</th>\n",
       "      <td>19.12.2021</td>\n",
       "      <td>bk</td>\n",
       "      <td>13</td>\n",
       "      <td>12.0</td>\n",
       "      <td>Sovet</td>\n",
       "      <td>NaN</td>\n",
       "    </tr>\n",
       "  </tbody>\n",
       "</table>\n",
       "</div>"
      ],
      "text/plain": [
       "         date source_income  orders  slot_duration restaurant  income\n",
       "0  15.12.2021            bk      16           12.0      Sovet     NaN\n",
       "1  16.12.2021            bk      13           10.0      Sovet     NaN\n",
       "2  17.12.2021            bk      13           12.0      Sovet     NaN\n",
       "3  18.12.2021            bk      21           11.0      Sovet     NaN\n",
       "4  19.12.2021            bk      13           12.0      Sovet     NaN"
      ]
     },
     "execution_count": 31,
     "metadata": {},
     "output_type": "execute_result"
    }
   ],
   "source": [
    "# вспомним про данные\n",
    "df2.head()"
   ]
  },
  {
   "cell_type": "code",
   "execution_count": 32,
   "id": "7ae899da",
   "metadata": {},
   "outputs": [],
   "source": [
    "# изменим тип данных\n",
    "df2['date'] = pd.to_datetime(df2['date'], format='%d.%m.%Y')"
   ]
  },
  {
   "cell_type": "code",
   "execution_count": 33,
   "id": "5e69a2fd",
   "metadata": {},
   "outputs": [
    {
     "name": "stdout",
     "output_type": "stream",
     "text": [
      "<class 'pandas.core.frame.DataFrame'>\n",
      "RangeIndex: 174 entries, 0 to 173\n",
      "Data columns (total 6 columns):\n",
      " #   Column         Non-Null Count  Dtype         \n",
      "---  ------         --------------  -----         \n",
      " 0   date           174 non-null    datetime64[ns]\n",
      " 1   source_income  174 non-null    object        \n",
      " 2   orders         174 non-null    int64         \n",
      " 3   slot_duration  174 non-null    float64       \n",
      " 4   restaurant     67 non-null     object        \n",
      " 5   income         113 non-null    float64       \n",
      "dtypes: datetime64[ns](1), float64(2), int64(1), object(2)\n",
      "memory usage: 8.3+ KB\n"
     ]
    }
   ],
   "source": [
    "# посмотрим на изменения\n",
    "df2.info()"
   ]
  },
  {
   "cell_type": "markdown",
   "id": "c38fc282",
   "metadata": {},
   "source": [
    "Тип данных столбца `date` был изменем на \"datetime\"."
   ]
  },
  {
   "cell_type": "code",
   "execution_count": 34,
   "id": "42bc4bb1",
   "metadata": {},
   "outputs": [
    {
     "data": {
      "text/plain": [
       "array(['bk'], dtype=object)"
      ]
     },
     "execution_count": 34,
     "metadata": {},
     "output_type": "execute_result"
    }
   ],
   "source": [
    "# посмотрим где пропуски\n",
    "df2[df2['income'].isna()]['source_income'].unique()"
   ]
  },
  {
   "cell_type": "markdown",
   "id": "ec68db30",
   "metadata": {},
   "source": [
    "Ранее я говорил, что пропуски `income` только в строках `source_income` равное \"bk\". В подтверждение вывод выше.\n",
    "\n",
    "Заполним пропуски расчётом значений."
   ]
  },
  {
   "cell_type": "code",
   "execution_count": 35,
   "id": "b4af4aeb",
   "metadata": {},
   "outputs": [
    {
     "data": {
      "text/html": [
       "<div>\n",
       "<style scoped>\n",
       "    .dataframe tbody tr th:only-of-type {\n",
       "        vertical-align: middle;\n",
       "    }\n",
       "\n",
       "    .dataframe tbody tr th {\n",
       "        vertical-align: top;\n",
       "    }\n",
       "\n",
       "    .dataframe thead th {\n",
       "        text-align: right;\n",
       "    }\n",
       "</style>\n",
       "<table border=\"1\" class=\"dataframe\">\n",
       "  <thead>\n",
       "    <tr style=\"text-align: right;\">\n",
       "      <th></th>\n",
       "      <th>date</th>\n",
       "      <th>source_income</th>\n",
       "      <th>orders</th>\n",
       "      <th>slot_duration</th>\n",
       "      <th>restaurant</th>\n",
       "      <th>income</th>\n",
       "    </tr>\n",
       "  </thead>\n",
       "  <tbody>\n",
       "    <tr>\n",
       "      <th>0</th>\n",
       "      <td>2021-12-15</td>\n",
       "      <td>bk</td>\n",
       "      <td>16</td>\n",
       "      <td>12.0</td>\n",
       "      <td>Sovet</td>\n",
       "      <td>NaN</td>\n",
       "    </tr>\n",
       "    <tr>\n",
       "      <th>1</th>\n",
       "      <td>2021-12-16</td>\n",
       "      <td>bk</td>\n",
       "      <td>13</td>\n",
       "      <td>10.0</td>\n",
       "      <td>Sovet</td>\n",
       "      <td>NaN</td>\n",
       "    </tr>\n",
       "    <tr>\n",
       "      <th>2</th>\n",
       "      <td>2021-12-17</td>\n",
       "      <td>bk</td>\n",
       "      <td>13</td>\n",
       "      <td>12.0</td>\n",
       "      <td>Sovet</td>\n",
       "      <td>NaN</td>\n",
       "    </tr>\n",
       "    <tr>\n",
       "      <th>3</th>\n",
       "      <td>2021-12-18</td>\n",
       "      <td>bk</td>\n",
       "      <td>21</td>\n",
       "      <td>11.0</td>\n",
       "      <td>Sovet</td>\n",
       "      <td>NaN</td>\n",
       "    </tr>\n",
       "    <tr>\n",
       "      <th>4</th>\n",
       "      <td>2021-12-19</td>\n",
       "      <td>bk</td>\n",
       "      <td>13</td>\n",
       "      <td>12.0</td>\n",
       "      <td>Sovet</td>\n",
       "      <td>NaN</td>\n",
       "    </tr>\n",
       "  </tbody>\n",
       "</table>\n",
       "</div>"
      ],
      "text/plain": [
       "        date source_income  orders  slot_duration restaurant  income\n",
       "0 2021-12-15            bk      16           12.0      Sovet     NaN\n",
       "1 2021-12-16            bk      13           10.0      Sovet     NaN\n",
       "2 2021-12-17            bk      13           12.0      Sovet     NaN\n",
       "3 2021-12-18            bk      21           11.0      Sovet     NaN\n",
       "4 2021-12-19            bk      13           12.0      Sovet     NaN"
      ]
     },
     "execution_count": 35,
     "metadata": {},
     "output_type": "execute_result"
    }
   ],
   "source": [
    "# до изменений\n",
    "df2[df2['income'].isna()][:5]"
   ]
  },
  {
   "cell_type": "code",
   "execution_count": 36,
   "id": "49edafe2",
   "metadata": {},
   "outputs": [
    {
     "data": {
      "text/html": [
       "<div>\n",
       "<style scoped>\n",
       "    .dataframe tbody tr th:only-of-type {\n",
       "        vertical-align: middle;\n",
       "    }\n",
       "\n",
       "    .dataframe tbody tr th {\n",
       "        vertical-align: top;\n",
       "    }\n",
       "\n",
       "    .dataframe thead th {\n",
       "        text-align: right;\n",
       "    }\n",
       "</style>\n",
       "<table border=\"1\" class=\"dataframe\">\n",
       "  <thead>\n",
       "    <tr style=\"text-align: right;\">\n",
       "      <th></th>\n",
       "      <th>date</th>\n",
       "      <th>source_income</th>\n",
       "      <th>orders</th>\n",
       "      <th>slot_duration</th>\n",
       "      <th>restaurant</th>\n",
       "      <th>income</th>\n",
       "    </tr>\n",
       "  </thead>\n",
       "  <tbody>\n",
       "  </tbody>\n",
       "</table>\n",
       "</div>"
      ],
      "text/plain": [
       "Empty DataFrame\n",
       "Columns: [date, source_income, orders, slot_duration, restaurant, income]\n",
       "Index: []"
      ]
     },
     "execution_count": 36,
     "metadata": {},
     "output_type": "execute_result"
    }
   ],
   "source": [
    "# заполним пропуски\n",
    "df2['income'] = df2['income'].fillna(df2['orders'] * 150)\n",
    "# посмотрим на результат\n",
    "df2[df2['income'].isna()][:5]"
   ]
  },
  {
   "cell_type": "markdown",
   "id": "fda6db92",
   "metadata": {},
   "source": [
    "Как видно пропусков нет, а что же теперь там?\n",
    "\n",
    "Посмотрим на строки со значением source_income == bk:"
   ]
  },
  {
   "cell_type": "code",
   "execution_count": 37,
   "id": "a9464f40",
   "metadata": {},
   "outputs": [
    {
     "data": {
      "text/html": [
       "<div>\n",
       "<style scoped>\n",
       "    .dataframe tbody tr th:only-of-type {\n",
       "        vertical-align: middle;\n",
       "    }\n",
       "\n",
       "    .dataframe tbody tr th {\n",
       "        vertical-align: top;\n",
       "    }\n",
       "\n",
       "    .dataframe thead th {\n",
       "        text-align: right;\n",
       "    }\n",
       "</style>\n",
       "<table border=\"1\" class=\"dataframe\">\n",
       "  <thead>\n",
       "    <tr style=\"text-align: right;\">\n",
       "      <th></th>\n",
       "      <th>date</th>\n",
       "      <th>source_income</th>\n",
       "      <th>orders</th>\n",
       "      <th>slot_duration</th>\n",
       "      <th>restaurant</th>\n",
       "      <th>income</th>\n",
       "    </tr>\n",
       "  </thead>\n",
       "  <tbody>\n",
       "    <tr>\n",
       "      <th>0</th>\n",
       "      <td>2021-12-15</td>\n",
       "      <td>bk</td>\n",
       "      <td>16</td>\n",
       "      <td>12.0</td>\n",
       "      <td>Sovet</td>\n",
       "      <td>2400.0</td>\n",
       "    </tr>\n",
       "    <tr>\n",
       "      <th>1</th>\n",
       "      <td>2021-12-16</td>\n",
       "      <td>bk</td>\n",
       "      <td>13</td>\n",
       "      <td>10.0</td>\n",
       "      <td>Sovet</td>\n",
       "      <td>1950.0</td>\n",
       "    </tr>\n",
       "    <tr>\n",
       "      <th>2</th>\n",
       "      <td>2021-12-17</td>\n",
       "      <td>bk</td>\n",
       "      <td>13</td>\n",
       "      <td>12.0</td>\n",
       "      <td>Sovet</td>\n",
       "      <td>1950.0</td>\n",
       "    </tr>\n",
       "    <tr>\n",
       "      <th>3</th>\n",
       "      <td>2021-12-18</td>\n",
       "      <td>bk</td>\n",
       "      <td>21</td>\n",
       "      <td>11.0</td>\n",
       "      <td>Sovet</td>\n",
       "      <td>3150.0</td>\n",
       "    </tr>\n",
       "    <tr>\n",
       "      <th>4</th>\n",
       "      <td>2021-12-19</td>\n",
       "      <td>bk</td>\n",
       "      <td>13</td>\n",
       "      <td>12.0</td>\n",
       "      <td>Sovet</td>\n",
       "      <td>1950.0</td>\n",
       "    </tr>\n",
       "  </tbody>\n",
       "</table>\n",
       "</div>"
      ],
      "text/plain": [
       "        date source_income  orders  slot_duration restaurant  income\n",
       "0 2021-12-15            bk      16           12.0      Sovet  2400.0\n",
       "1 2021-12-16            bk      13           10.0      Sovet  1950.0\n",
       "2 2021-12-17            bk      13           12.0      Sovet  1950.0\n",
       "3 2021-12-18            bk      21           11.0      Sovet  3150.0\n",
       "4 2021-12-19            bk      13           12.0      Sovet  1950.0"
      ]
     },
     "execution_count": 37,
     "metadata": {},
     "output_type": "execute_result"
    }
   ],
   "source": [
    "# результат замены\n",
    "df2.query('source_income == \"bk\"').head()"
   ]
  },
  {
   "cell_type": "markdown",
   "id": "04035a6c",
   "metadata": {},
   "source": [
    "Заполним пропуски restaurant на фиксированное значение - unknown"
   ]
  },
  {
   "cell_type": "code",
   "execution_count": 38,
   "id": "8c805e4a",
   "metadata": {},
   "outputs": [
    {
     "data": {
      "text/html": [
       "<div>\n",
       "<style scoped>\n",
       "    .dataframe tbody tr th:only-of-type {\n",
       "        vertical-align: middle;\n",
       "    }\n",
       "\n",
       "    .dataframe tbody tr th {\n",
       "        vertical-align: top;\n",
       "    }\n",
       "\n",
       "    .dataframe thead th {\n",
       "        text-align: right;\n",
       "    }\n",
       "</style>\n",
       "<table border=\"1\" class=\"dataframe\">\n",
       "  <thead>\n",
       "    <tr style=\"text-align: right;\">\n",
       "      <th></th>\n",
       "      <th>date</th>\n",
       "      <th>source_income</th>\n",
       "      <th>orders</th>\n",
       "      <th>slot_duration</th>\n",
       "      <th>restaurant</th>\n",
       "      <th>income</th>\n",
       "    </tr>\n",
       "  </thead>\n",
       "  <tbody>\n",
       "    <tr>\n",
       "      <th>67</th>\n",
       "      <td>2022-04-16</td>\n",
       "      <td>dc</td>\n",
       "      <td>7</td>\n",
       "      <td>5.0</td>\n",
       "      <td>NaN</td>\n",
       "      <td>1006.0</td>\n",
       "    </tr>\n",
       "    <tr>\n",
       "      <th>68</th>\n",
       "      <td>2022-04-17</td>\n",
       "      <td>dc</td>\n",
       "      <td>9</td>\n",
       "      <td>7.0</td>\n",
       "      <td>NaN</td>\n",
       "      <td>1411.0</td>\n",
       "    </tr>\n",
       "    <tr>\n",
       "      <th>69</th>\n",
       "      <td>2022-04-19</td>\n",
       "      <td>dc</td>\n",
       "      <td>9</td>\n",
       "      <td>8.0</td>\n",
       "      <td>NaN</td>\n",
       "      <td>1625.0</td>\n",
       "    </tr>\n",
       "    <tr>\n",
       "      <th>70</th>\n",
       "      <td>2022-04-20</td>\n",
       "      <td>dc</td>\n",
       "      <td>10</td>\n",
       "      <td>7.0</td>\n",
       "      <td>NaN</td>\n",
       "      <td>1905.0</td>\n",
       "    </tr>\n",
       "    <tr>\n",
       "      <th>71</th>\n",
       "      <td>2022-04-21</td>\n",
       "      <td>dc</td>\n",
       "      <td>5</td>\n",
       "      <td>6.0</td>\n",
       "      <td>NaN</td>\n",
       "      <td>1018.0</td>\n",
       "    </tr>\n",
       "  </tbody>\n",
       "</table>\n",
       "</div>"
      ],
      "text/plain": [
       "         date source_income  orders  slot_duration restaurant  income\n",
       "67 2022-04-16            dc       7            5.0        NaN  1006.0\n",
       "68 2022-04-17            dc       9            7.0        NaN  1411.0\n",
       "69 2022-04-19            dc       9            8.0        NaN  1625.0\n",
       "70 2022-04-20            dc      10            7.0        NaN  1905.0\n",
       "71 2022-04-21            dc       5            6.0        NaN  1018.0"
      ]
     },
     "execution_count": 38,
     "metadata": {},
     "output_type": "execute_result"
    }
   ],
   "source": [
    "# посмотрим на пропуски в restaurant\n",
    "df2[df2['restaurant'].isna()][:5]"
   ]
  },
  {
   "cell_type": "code",
   "execution_count": 39,
   "id": "73066ae3",
   "metadata": {},
   "outputs": [
    {
     "data": {
      "text/plain": [
       "array(['dc'], dtype=object)"
      ]
     },
     "execution_count": 39,
     "metadata": {},
     "output_type": "execute_result"
    }
   ],
   "source": [
    "df2[df2['restaurant'].isna()]['source_income'].unique()"
   ]
  },
  {
   "cell_type": "markdown",
   "id": "25695bd1",
   "metadata": {},
   "source": [
    "Видим, что пропуски в restaurant присутствуют только в source_income == dc. Причина в том, что в dc нет привязки к ресторану, заказы забираются с разных ресторанов. Заполним пропуски restaurant на фиксированное значение - unknown."
   ]
  },
  {
   "cell_type": "code",
   "execution_count": 40,
   "id": "071022b6",
   "metadata": {},
   "outputs": [
    {
     "data": {
      "text/html": [
       "<div>\n",
       "<style scoped>\n",
       "    .dataframe tbody tr th:only-of-type {\n",
       "        vertical-align: middle;\n",
       "    }\n",
       "\n",
       "    .dataframe tbody tr th {\n",
       "        vertical-align: top;\n",
       "    }\n",
       "\n",
       "    .dataframe thead th {\n",
       "        text-align: right;\n",
       "    }\n",
       "</style>\n",
       "<table border=\"1\" class=\"dataframe\">\n",
       "  <thead>\n",
       "    <tr style=\"text-align: right;\">\n",
       "      <th></th>\n",
       "      <th>date</th>\n",
       "      <th>source_income</th>\n",
       "      <th>orders</th>\n",
       "      <th>slot_duration</th>\n",
       "      <th>restaurant</th>\n",
       "      <th>income</th>\n",
       "    </tr>\n",
       "  </thead>\n",
       "  <tbody>\n",
       "    <tr>\n",
       "      <th>67</th>\n",
       "      <td>2022-04-16</td>\n",
       "      <td>dc</td>\n",
       "      <td>7</td>\n",
       "      <td>5.0</td>\n",
       "      <td>unknown</td>\n",
       "      <td>1006.0</td>\n",
       "    </tr>\n",
       "    <tr>\n",
       "      <th>68</th>\n",
       "      <td>2022-04-17</td>\n",
       "      <td>dc</td>\n",
       "      <td>9</td>\n",
       "      <td>7.0</td>\n",
       "      <td>unknown</td>\n",
       "      <td>1411.0</td>\n",
       "    </tr>\n",
       "    <tr>\n",
       "      <th>69</th>\n",
       "      <td>2022-04-19</td>\n",
       "      <td>dc</td>\n",
       "      <td>9</td>\n",
       "      <td>8.0</td>\n",
       "      <td>unknown</td>\n",
       "      <td>1625.0</td>\n",
       "    </tr>\n",
       "    <tr>\n",
       "      <th>70</th>\n",
       "      <td>2022-04-20</td>\n",
       "      <td>dc</td>\n",
       "      <td>10</td>\n",
       "      <td>7.0</td>\n",
       "      <td>unknown</td>\n",
       "      <td>1905.0</td>\n",
       "    </tr>\n",
       "    <tr>\n",
       "      <th>71</th>\n",
       "      <td>2022-04-21</td>\n",
       "      <td>dc</td>\n",
       "      <td>5</td>\n",
       "      <td>6.0</td>\n",
       "      <td>unknown</td>\n",
       "      <td>1018.0</td>\n",
       "    </tr>\n",
       "  </tbody>\n",
       "</table>\n",
       "</div>"
      ],
      "text/plain": [
       "         date source_income  orders  slot_duration restaurant  income\n",
       "67 2022-04-16            dc       7            5.0    unknown  1006.0\n",
       "68 2022-04-17            dc       9            7.0    unknown  1411.0\n",
       "69 2022-04-19            dc       9            8.0    unknown  1625.0\n",
       "70 2022-04-20            dc      10            7.0    unknown  1905.0\n",
       "71 2022-04-21            dc       5            6.0    unknown  1018.0"
      ]
     },
     "execution_count": 40,
     "metadata": {},
     "output_type": "execute_result"
    }
   ],
   "source": [
    "df2['restaurant'] = df2['restaurant'].fillna('unknown')\n",
    "df2.query('source_income == \"dc\"').head()"
   ]
  },
  {
   "cell_type": "code",
   "execution_count": 41,
   "id": "829ddc31",
   "metadata": {},
   "outputs": [
    {
     "name": "stdout",
     "output_type": "stream",
     "text": [
      "<class 'pandas.core.frame.DataFrame'>\n",
      "RangeIndex: 174 entries, 0 to 173\n",
      "Data columns (total 6 columns):\n",
      " #   Column         Non-Null Count  Dtype         \n",
      "---  ------         --------------  -----         \n",
      " 0   date           174 non-null    datetime64[ns]\n",
      " 1   source_income  174 non-null    object        \n",
      " 2   orders         174 non-null    int64         \n",
      " 3   slot_duration  174 non-null    float64       \n",
      " 4   restaurant     174 non-null    object        \n",
      " 5   income         174 non-null    float64       \n",
      "dtypes: datetime64[ns](1), float64(2), int64(1), object(2)\n",
      "memory usage: 8.3+ KB\n"
     ]
    }
   ],
   "source": [
    "# результат\n",
    "df2.info()"
   ]
  },
  {
   "cell_type": "markdown",
   "id": "2660caa7",
   "metadata": {},
   "source": [
    "Пропуски заполнены, типы данных приведены к нужным."
   ]
  },
  {
   "cell_type": "markdown",
   "id": "b609c847",
   "metadata": {},
   "source": [
    "### Вывод"
   ]
  },
  {
   "cell_type": "markdown",
   "id": "aa144eee",
   "metadata": {},
   "source": [
    "**df1**\n",
    "\n",
    "* [X] Тип данных столбца `datetime` приведен к верному(\"datetime\");\n",
    "* [X] Убран неявный дубликат в `device_ios_or_android`;\n",
    "* [X] Убраны неявные дубликаты имен в `nickname`. Было - 268, стало - 230.\n",
    "\n",
    "Данные в **df1** подготовлены для исследовательского анализа данных.\n",
    "\n",
    "**df2**\n",
    "\n",
    "* [X] Тип данных столбца `date` приведен к верному(\"datetime\");\n",
    "* [X] Пропуски в `restaurant`, `income` были заполнены согласно специфике данных.\n",
    "\n",
    "Данные в **df2** подготовлены для исследовательского анализа данных."
   ]
  },
  {
   "cell_type": "markdown",
   "id": "c18d182f",
   "metadata": {},
   "source": [
    "## EDA"
   ]
  },
  {
   "cell_type": "markdown",
   "id": "de940f9d",
   "metadata": {},
   "source": [
    "**df1**"
   ]
  },
  {
   "cell_type": "code",
   "execution_count": 42,
   "id": "73522a16",
   "metadata": {},
   "outputs": [
    {
     "data": {
      "text/html": [
       "<div>\n",
       "<style scoped>\n",
       "    .dataframe tbody tr th:only-of-type {\n",
       "        vertical-align: middle;\n",
       "    }\n",
       "\n",
       "    .dataframe tbody tr th {\n",
       "        vertical-align: top;\n",
       "    }\n",
       "\n",
       "    .dataframe thead th {\n",
       "        text-align: right;\n",
       "    }\n",
       "</style>\n",
       "<table border=\"1\" class=\"dataframe\">\n",
       "  <thead>\n",
       "    <tr style=\"text-align: right;\">\n",
       "      <th></th>\n",
       "      <th>user_id</th>\n",
       "      <th>revenue</th>\n",
       "    </tr>\n",
       "  </thead>\n",
       "  <tbody>\n",
       "    <tr>\n",
       "      <th>count</th>\n",
       "      <td>1.273000e+03</td>\n",
       "      <td>1273.000000</td>\n",
       "    </tr>\n",
       "    <tr>\n",
       "      <th>mean</th>\n",
       "      <td>7.941761e+10</td>\n",
       "      <td>885.215169</td>\n",
       "    </tr>\n",
       "    <tr>\n",
       "      <th>std</th>\n",
       "      <td>3.236076e+08</td>\n",
       "      <td>334.962393</td>\n",
       "    </tr>\n",
       "    <tr>\n",
       "      <th>min</th>\n",
       "      <td>7.900944e+10</td>\n",
       "      <td>455.990000</td>\n",
       "    </tr>\n",
       "    <tr>\n",
       "      <th>25%</th>\n",
       "      <td>7.917388e+10</td>\n",
       "      <td>665.000000</td>\n",
       "    </tr>\n",
       "    <tr>\n",
       "      <th>50%</th>\n",
       "      <td>7.922887e+10</td>\n",
       "      <td>764.000000</td>\n",
       "    </tr>\n",
       "    <tr>\n",
       "      <th>75%</th>\n",
       "      <td>7.986779e+10</td>\n",
       "      <td>1000.000000</td>\n",
       "    </tr>\n",
       "    <tr>\n",
       "      <th>max</th>\n",
       "      <td>7.999684e+10</td>\n",
       "      <td>3450.000000</td>\n",
       "    </tr>\n",
       "  </tbody>\n",
       "</table>\n",
       "</div>"
      ],
      "text/plain": [
       "            user_id      revenue\n",
       "count  1.273000e+03  1273.000000\n",
       "mean   7.941761e+10   885.215169\n",
       "std    3.236076e+08   334.962393\n",
       "min    7.900944e+10   455.990000\n",
       "25%    7.917388e+10   665.000000\n",
       "50%    7.922887e+10   764.000000\n",
       "75%    7.986779e+10  1000.000000\n",
       "max    7.999684e+10  3450.000000"
      ]
     },
     "execution_count": 42,
     "metadata": {},
     "output_type": "execute_result"
    }
   ],
   "source": [
    "df1.describe()"
   ]
  },
  {
   "cell_type": "code",
   "execution_count": null,
   "id": "b71724bc",
   "metadata": {},
   "outputs": [],
   "source": []
  }
 ],
 "metadata": {
  "kernelspec": {
   "display_name": "Python 3 (ipykernel)",
   "language": "python",
   "name": "python3"
  },
  "language_info": {
   "codemirror_mode": {
    "name": "ipython",
    "version": 3
   },
   "file_extension": ".py",
   "mimetype": "text/x-python",
   "name": "python",
   "nbconvert_exporter": "python",
   "pygments_lexer": "ipython3",
   "version": "3.9.12"
  },
  "toc": {
   "base_numbering": 1,
   "nav_menu": {},
   "number_sections": true,
   "sideBar": true,
   "skip_h1_title": true,
   "title_cell": "Содержание",
   "title_sidebar": "Содержание",
   "toc_cell": true,
   "toc_position": {
    "height": "calc(100% - 180px)",
    "left": "10px",
    "top": "150px",
    "width": "341.333px"
   },
   "toc_section_display": true,
   "toc_window_display": true
  }
 },
 "nbformat": 4,
 "nbformat_minor": 5
}
